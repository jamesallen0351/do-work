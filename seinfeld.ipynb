{
 "cells": [
  {
   "cell_type": "markdown",
   "id": "924ee3f7",
   "metadata": {},
   "source": [
    "# Seinfeld"
   ]
  },
  {
   "cell_type": "code",
   "execution_count": 1,
   "id": "7de87f56",
   "metadata": {},
   "outputs": [],
   "source": [
    "# imports\n",
    "\n",
    "# ignore warnings\n",
    "import warnings\n",
    "warnings.filterwarnings(\"ignore\")\n",
    "\n",
    "import pandas as pd\n",
    "import numpy as np\n",
    "import matplotlib.pyplot as plt\n",
    "import seaborn as sns\n",
    "from wordcloud import WordCloud\n",
    "from matplotlib import cm\n",
    "import seaborn as sns\n",
    "from sklearn.model_selection import learning_curve\n",
    "import statsmodels.api as sm\n",
    "\n",
    "# plotting defaults\n",
    "plt.rc('figure', figsize=(13, 7))\n",
    "plt.style.use('seaborn-whitegrid')\n",
    "plt.rc('font', size=16)"
   ]
  },
  {
   "cell_type": "markdown",
   "id": "9e3caa88",
   "metadata": {},
   "source": [
    "# Acquire"
   ]
  },
  {
   "cell_type": "code",
   "execution_count": 2,
   "id": "008d5d3d",
   "metadata": {},
   "outputs": [
    {
     "data": {
      "text/html": [
       "<div>\n",
       "<style scoped>\n",
       "    .dataframe tbody tr th:only-of-type {\n",
       "        vertical-align: middle;\n",
       "    }\n",
       "\n",
       "    .dataframe tbody tr th {\n",
       "        vertical-align: top;\n",
       "    }\n",
       "\n",
       "    .dataframe thead th {\n",
       "        text-align: right;\n",
       "    }\n",
       "</style>\n",
       "<table border=\"1\" class=\"dataframe\">\n",
       "  <thead>\n",
       "    <tr style=\"text-align: right;\">\n",
       "      <th></th>\n",
       "      <th>season</th>\n",
       "      <th>episode_num_in_season</th>\n",
       "      <th>episode_num_overall</th>\n",
       "      <th>title</th>\n",
       "      <th>directed_by</th>\n",
       "      <th>written_by</th>\n",
       "      <th>original_air_date</th>\n",
       "      <th>prod_code</th>\n",
       "      <th>us_viewers</th>\n",
       "    </tr>\n",
       "  </thead>\n",
       "  <tbody>\n",
       "    <tr>\n",
       "      <th>0</th>\n",
       "      <td>1</td>\n",
       "      <td>1</td>\n",
       "      <td>1</td>\n",
       "      <td>Good News, Bad News</td>\n",
       "      <td>Art Wolff</td>\n",
       "      <td>Larry David &amp; Jerry Seinfeld</td>\n",
       "      <td>1989-07-05</td>\n",
       "      <td>101</td>\n",
       "      <td>15400000.0</td>\n",
       "    </tr>\n",
       "    <tr>\n",
       "      <th>1</th>\n",
       "      <td>1</td>\n",
       "      <td>2</td>\n",
       "      <td>2</td>\n",
       "      <td>The Stakeout</td>\n",
       "      <td>Tom Cherones</td>\n",
       "      <td>Larry David &amp; Jerry Seinfeld</td>\n",
       "      <td>1990-05-31</td>\n",
       "      <td>102</td>\n",
       "      <td>22500000.0</td>\n",
       "    </tr>\n",
       "    <tr>\n",
       "      <th>2</th>\n",
       "      <td>1</td>\n",
       "      <td>3</td>\n",
       "      <td>3</td>\n",
       "      <td>The Robbery</td>\n",
       "      <td>Tom Cherones</td>\n",
       "      <td>Matt Goldman</td>\n",
       "      <td>1990-06-07</td>\n",
       "      <td>103</td>\n",
       "      <td>19700000.0</td>\n",
       "    </tr>\n",
       "    <tr>\n",
       "      <th>3</th>\n",
       "      <td>1</td>\n",
       "      <td>4</td>\n",
       "      <td>4</td>\n",
       "      <td>Male Unbonding</td>\n",
       "      <td>Tom Cherones</td>\n",
       "      <td>Larry David &amp; Jerry Seinfeld</td>\n",
       "      <td>1990-06-14</td>\n",
       "      <td>104</td>\n",
       "      <td>19100000.0</td>\n",
       "    </tr>\n",
       "    <tr>\n",
       "      <th>4</th>\n",
       "      <td>1</td>\n",
       "      <td>5</td>\n",
       "      <td>5</td>\n",
       "      <td>The Stock Tip</td>\n",
       "      <td>Tom Cherones</td>\n",
       "      <td>Larry David &amp; Jerry Seinfeld</td>\n",
       "      <td>1990-06-21</td>\n",
       "      <td>105</td>\n",
       "      <td>19400000.0</td>\n",
       "    </tr>\n",
       "  </tbody>\n",
       "</table>\n",
       "</div>"
      ],
      "text/plain": [
       "   season  episode_num_in_season  episode_num_overall                title  \\\n",
       "0       1                      1                    1  Good News, Bad News   \n",
       "1       1                      2                    2         The Stakeout   \n",
       "2       1                      3                    3          The Robbery   \n",
       "3       1                      4                    4       Male Unbonding   \n",
       "4       1                      5                    5        The Stock Tip   \n",
       "\n",
       "    directed_by                    written_by original_air_date  prod_code  \\\n",
       "0     Art Wolff  Larry David & Jerry Seinfeld        1989-07-05        101   \n",
       "1  Tom Cherones  Larry David & Jerry Seinfeld        1990-05-31        102   \n",
       "2  Tom Cherones                  Matt Goldman        1990-06-07        103   \n",
       "3  Tom Cherones  Larry David & Jerry Seinfeld        1990-06-14        104   \n",
       "4  Tom Cherones  Larry David & Jerry Seinfeld        1990-06-21        105   \n",
       "\n",
       "   us_viewers  \n",
       "0  15400000.0  \n",
       "1  22500000.0  \n",
       "2  19700000.0  \n",
       "3  19100000.0  \n",
       "4  19400000.0  "
      ]
     },
     "execution_count": 2,
     "metadata": {},
     "output_type": "execute_result"
    }
   ],
   "source": [
    "df = pd.read_csv('seinfeld_episodes.csv')\n",
    "df.head()"
   ]
  },
  {
   "cell_type": "code",
   "execution_count": 3,
   "id": "1df95f6f",
   "metadata": {},
   "outputs": [
    {
     "data": {
      "text/html": [
       "<div>\n",
       "<style scoped>\n",
       "    .dataframe tbody tr th:only-of-type {\n",
       "        vertical-align: middle;\n",
       "    }\n",
       "\n",
       "    .dataframe tbody tr th {\n",
       "        vertical-align: top;\n",
       "    }\n",
       "\n",
       "    .dataframe thead th {\n",
       "        text-align: right;\n",
       "    }\n",
       "</style>\n",
       "<table border=\"1\" class=\"dataframe\">\n",
       "  <thead>\n",
       "    <tr style=\"text-align: right;\">\n",
       "      <th></th>\n",
       "      <th>season</th>\n",
       "      <th>episode_num_in_season</th>\n",
       "      <th>episode_num_overall</th>\n",
       "      <th>title</th>\n",
       "      <th>directed_by</th>\n",
       "      <th>written_by</th>\n",
       "      <th>original_air_date</th>\n",
       "      <th>prod_code</th>\n",
       "      <th>us_viewers</th>\n",
       "    </tr>\n",
       "  </thead>\n",
       "  <tbody>\n",
       "    <tr>\n",
       "      <th>175</th>\n",
       "      <td>9</td>\n",
       "      <td>20</td>\n",
       "      <td>176</td>\n",
       "      <td>The Puerto Rican Day</td>\n",
       "      <td>Andy Ackerman</td>\n",
       "      <td>Alec Berg, Jennifer Crittenden, Spike Feresten...</td>\n",
       "      <td>1998-05-07</td>\n",
       "      <td>920</td>\n",
       "      <td>38780000.0</td>\n",
       "    </tr>\n",
       "    <tr>\n",
       "      <th>176</th>\n",
       "      <td>9</td>\n",
       "      <td>21</td>\n",
       "      <td>177</td>\n",
       "      <td>The Chronicle</td>\n",
       "      <td>Andy Ackerman</td>\n",
       "      <td>Darin Henry</td>\n",
       "      <td>1998-05-14</td>\n",
       "      <td>921</td>\n",
       "      <td>58530000.0</td>\n",
       "    </tr>\n",
       "    <tr>\n",
       "      <th>177</th>\n",
       "      <td>9</td>\n",
       "      <td>22</td>\n",
       "      <td>178</td>\n",
       "      <td>The Chronicle</td>\n",
       "      <td>Andy Ackerman</td>\n",
       "      <td>Darin Henry</td>\n",
       "      <td>1998-05-14</td>\n",
       "      <td>922</td>\n",
       "      <td>58530000.0</td>\n",
       "    </tr>\n",
       "    <tr>\n",
       "      <th>178</th>\n",
       "      <td>9</td>\n",
       "      <td>23</td>\n",
       "      <td>179</td>\n",
       "      <td>The Finale</td>\n",
       "      <td>Andy Ackerman</td>\n",
       "      <td>Larry David</td>\n",
       "      <td>1998-05-14</td>\n",
       "      <td>923</td>\n",
       "      <td>76260000.0</td>\n",
       "    </tr>\n",
       "    <tr>\n",
       "      <th>179</th>\n",
       "      <td>9</td>\n",
       "      <td>24</td>\n",
       "      <td>180</td>\n",
       "      <td>The Finale</td>\n",
       "      <td>Andy Ackerman</td>\n",
       "      <td>Larry David</td>\n",
       "      <td>1998-05-14</td>\n",
       "      <td>924</td>\n",
       "      <td>76260000.0</td>\n",
       "    </tr>\n",
       "  </tbody>\n",
       "</table>\n",
       "</div>"
      ],
      "text/plain": [
       "     season  episode_num_in_season  episode_num_overall                 title  \\\n",
       "175       9                     20                  176  The Puerto Rican Day   \n",
       "176       9                     21                  177         The Chronicle   \n",
       "177       9                     22                  178         The Chronicle   \n",
       "178       9                     23                  179            The Finale   \n",
       "179       9                     24                  180            The Finale   \n",
       "\n",
       "       directed_by                                         written_by  \\\n",
       "175  Andy Ackerman  Alec Berg, Jennifer Crittenden, Spike Feresten...   \n",
       "176  Andy Ackerman                                        Darin Henry   \n",
       "177  Andy Ackerman                                        Darin Henry   \n",
       "178  Andy Ackerman                                        Larry David   \n",
       "179  Andy Ackerman                                        Larry David   \n",
       "\n",
       "    original_air_date  prod_code  us_viewers  \n",
       "175        1998-05-07        920  38780000.0  \n",
       "176        1998-05-14        921  58530000.0  \n",
       "177        1998-05-14        922  58530000.0  \n",
       "178        1998-05-14        923  76260000.0  \n",
       "179        1998-05-14        924  76260000.0  "
      ]
     },
     "execution_count": 3,
     "metadata": {},
     "output_type": "execute_result"
    }
   ],
   "source": [
    "df.tail()"
   ]
  },
  {
   "cell_type": "code",
   "execution_count": 4,
   "id": "1d867766",
   "metadata": {},
   "outputs": [
    {
     "name": "stdout",
     "output_type": "stream",
     "text": [
      "<class 'pandas.core.frame.DataFrame'>\n",
      "RangeIndex: 180 entries, 0 to 179\n",
      "Data columns (total 9 columns):\n",
      " #   Column                 Non-Null Count  Dtype  \n",
      "---  ------                 --------------  -----  \n",
      " 0   season                 180 non-null    int64  \n",
      " 1   episode_num_in_season  180 non-null    int64  \n",
      " 2   episode_num_overall    180 non-null    int64  \n",
      " 3   title                  180 non-null    object \n",
      " 4   directed_by            180 non-null    object \n",
      " 5   written_by             180 non-null    object \n",
      " 6   original_air_date      180 non-null    object \n",
      " 7   prod_code              180 non-null    int64  \n",
      " 8   us_viewers             179 non-null    float64\n",
      "dtypes: float64(1), int64(4), object(4)\n",
      "memory usage: 12.8+ KB\n"
     ]
    }
   ],
   "source": [
    "df.info()"
   ]
  },
  {
   "cell_type": "code",
   "execution_count": 5,
   "id": "c7776e68",
   "metadata": {},
   "outputs": [
    {
     "data": {
      "text/plain": [
       "(180, 9)"
      ]
     },
     "execution_count": 5,
     "metadata": {},
     "output_type": "execute_result"
    }
   ],
   "source": [
    "# looking at the shape of the data\n",
    "df.shape"
   ]
  },
  {
   "cell_type": "code",
   "execution_count": 6,
   "id": "0318d123",
   "metadata": {},
   "outputs": [
    {
     "data": {
      "text/plain": [
       "season                   0\n",
       "episode_num_in_season    0\n",
       "episode_num_overall      0\n",
       "title                    0\n",
       "directed_by              0\n",
       "written_by               0\n",
       "original_air_date        0\n",
       "prod_code                0\n",
       "us_viewers               1\n",
       "dtype: int64"
      ]
     },
     "execution_count": 6,
     "metadata": {},
     "output_type": "execute_result"
    }
   ],
   "source": [
    "# checking for nulls in the data\n",
    "df.isna().sum()"
   ]
  },
  {
   "cell_type": "code",
   "execution_count": 7,
   "id": "95bfb8df",
   "metadata": {},
   "outputs": [
    {
     "data": {
      "text/plain": [
       "season                               9\n",
       "episode_num_in_season               23\n",
       "episode_num_overall                179\n",
       "title                       The Finale\n",
       "directed_by              Andy Ackerman\n",
       "written_by                 Larry David\n",
       "original_air_date           1998-05-14\n",
       "prod_code                          923\n",
       "us_viewers                  76260000.0\n",
       "Name: 178, dtype: object"
      ]
     },
     "execution_count": 7,
     "metadata": {},
     "output_type": "execute_result"
    }
   ],
   "source": [
    "df.loc[df.us_viewers.idxmax()]"
   ]
  },
  {
   "cell_type": "code",
   "execution_count": 8,
   "id": "a06377c9",
   "metadata": {},
   "outputs": [
    {
     "data": {
      "text/plain": [
       "Text(0.5, 1.0, 'Episode Popularity of The Office')"
      ]
     },
     "execution_count": 8,
     "metadata": {},
     "output_type": "execute_result"
    },
    {
     "data": {
      "image/png": "[encoded data removed]",
      "text/plain": [
       "<Figure size 936x504 with 1 Axes>"
      ]
     },
     "metadata": {},
     "output_type": "display_data"
    }
   ],
   "source": [
    "plt.scatter(df.episode_num_overall, df.us_viewers)\n",
    "plt.xlabel(\"Episode\")\n",
    "plt.ylabel(\"Viewership\")\n",
    "plt.title(\"Episode Popularity of The Office\")"
   ]
  },
  {
   "cell_type": "code",
   "execution_count": 9,
   "id": "a3912ece",
   "metadata": {},
   "outputs": [
    {
     "data": {
      "text/html": [
       "<div>\n",
       "<style scoped>\n",
       "    .dataframe tbody tr th:only-of-type {\n",
       "        vertical-align: middle;\n",
       "    }\n",
       "\n",
       "    .dataframe tbody tr th {\n",
       "        vertical-align: top;\n",
       "    }\n",
       "\n",
       "    .dataframe thead th {\n",
       "        text-align: right;\n",
       "    }\n",
       "</style>\n",
       "<table border=\"1\" class=\"dataframe\">\n",
       "  <thead>\n",
       "    <tr style=\"text-align: right;\">\n",
       "      <th></th>\n",
       "      <th>season</th>\n",
       "      <th>episode_num_in_season</th>\n",
       "      <th>episode_num_overall</th>\n",
       "      <th>prod_code</th>\n",
       "      <th>us_viewers</th>\n",
       "    </tr>\n",
       "  </thead>\n",
       "  <tbody>\n",
       "    <tr>\n",
       "      <th>count</th>\n",
       "      <td>180.000000</td>\n",
       "      <td>180.000000</td>\n",
       "      <td>180.000000</td>\n",
       "      <td>180.000000</td>\n",
       "      <td>1.790000e+02</td>\n",
       "    </tr>\n",
       "    <tr>\n",
       "      <th>mean</th>\n",
       "      <td>5.600000</td>\n",
       "      <td>11.527778</td>\n",
       "      <td>90.500000</td>\n",
       "      <td>570.916667</td>\n",
       "      <td>2.796933e+07</td>\n",
       "    </tr>\n",
       "    <tr>\n",
       "      <th>std</th>\n",
       "      <td>2.293055</td>\n",
       "      <td>6.808991</td>\n",
       "      <td>52.105662</td>\n",
       "      <td>231.350272</td>\n",
       "      <td>9.295837e+06</td>\n",
       "    </tr>\n",
       "    <tr>\n",
       "      <th>min</th>\n",
       "      <td>1.000000</td>\n",
       "      <td>1.000000</td>\n",
       "      <td>1.000000</td>\n",
       "      <td>101.000000</td>\n",
       "      <td>1.150000e+07</td>\n",
       "    </tr>\n",
       "    <tr>\n",
       "      <th>25%</th>\n",
       "      <td>4.000000</td>\n",
       "      <td>5.750000</td>\n",
       "      <td>45.750000</td>\n",
       "      <td>405.750000</td>\n",
       "      <td>1.945000e+07</td>\n",
       "    </tr>\n",
       "    <tr>\n",
       "      <th>50%</th>\n",
       "      <td>6.000000</td>\n",
       "      <td>11.000000</td>\n",
       "      <td>90.500000</td>\n",
       "      <td>604.500000</td>\n",
       "      <td>2.980000e+07</td>\n",
       "    </tr>\n",
       "    <tr>\n",
       "      <th>75%</th>\n",
       "      <td>8.000000</td>\n",
       "      <td>17.000000</td>\n",
       "      <td>135.250000</td>\n",
       "      <td>801.250000</td>\n",
       "      <td>3.280000e+07</td>\n",
       "    </tr>\n",
       "    <tr>\n",
       "      <th>max</th>\n",
       "      <td>9.000000</td>\n",
       "      <td>24.000000</td>\n",
       "      <td>180.000000</td>\n",
       "      <td>924.000000</td>\n",
       "      <td>7.626000e+07</td>\n",
       "    </tr>\n",
       "  </tbody>\n",
       "</table>\n",
       "</div>"
      ],
      "text/plain": [
       "           season  episode_num_in_season  episode_num_overall   prod_code  \\\n",
       "count  180.000000             180.000000           180.000000  180.000000   \n",
       "mean     5.600000              11.527778            90.500000  570.916667   \n",
       "std      2.293055               6.808991            52.105662  231.350272   \n",
       "min      1.000000               1.000000             1.000000  101.000000   \n",
       "25%      4.000000               5.750000            45.750000  405.750000   \n",
       "50%      6.000000              11.000000            90.500000  604.500000   \n",
       "75%      8.000000              17.000000           135.250000  801.250000   \n",
       "max      9.000000              24.000000           180.000000  924.000000   \n",
       "\n",
       "         us_viewers  \n",
       "count  1.790000e+02  \n",
       "mean   2.796933e+07  \n",
       "std    9.295837e+06  \n",
       "min    1.150000e+07  \n",
       "25%    1.945000e+07  \n",
       "50%    2.980000e+07  \n",
       "75%    3.280000e+07  \n",
       "max    7.626000e+07  "
      ]
     },
     "execution_count": 9,
     "metadata": {},
     "output_type": "execute_result"
    }
   ],
   "source": [
    "df.describe()"
   ]
  },
  {
   "cell_type": "code",
   "execution_count": 10,
   "id": "da8136cf",
   "metadata": {},
   "outputs": [
    {
     "data": {
      "text/html": [
       "<div>\n",
       "<style scoped>\n",
       "    .dataframe tbody tr th:only-of-type {\n",
       "        vertical-align: middle;\n",
       "    }\n",
       "\n",
       "    .dataframe tbody tr th {\n",
       "        vertical-align: top;\n",
       "    }\n",
       "\n",
       "    .dataframe thead th {\n",
       "        text-align: right;\n",
       "    }\n",
       "</style>\n",
       "<table border=\"1\" class=\"dataframe\">\n",
       "  <thead>\n",
       "    <tr style=\"text-align: right;\">\n",
       "      <th></th>\n",
       "      <th>season</th>\n",
       "      <th>episodes</th>\n",
       "    </tr>\n",
       "  </thead>\n",
       "  <tbody>\n",
       "    <tr>\n",
       "      <th>0</th>\n",
       "      <td>1</td>\n",
       "      <td>5</td>\n",
       "    </tr>\n",
       "    <tr>\n",
       "      <th>1</th>\n",
       "      <td>2</td>\n",
       "      <td>12</td>\n",
       "    </tr>\n",
       "    <tr>\n",
       "      <th>2</th>\n",
       "      <td>3</td>\n",
       "      <td>23</td>\n",
       "    </tr>\n",
       "    <tr>\n",
       "      <th>3</th>\n",
       "      <td>4</td>\n",
       "      <td>24</td>\n",
       "    </tr>\n",
       "    <tr>\n",
       "      <th>4</th>\n",
       "      <td>5</td>\n",
       "      <td>22</td>\n",
       "    </tr>\n",
       "    <tr>\n",
       "      <th>5</th>\n",
       "      <td>6</td>\n",
       "      <td>24</td>\n",
       "    </tr>\n",
       "    <tr>\n",
       "      <th>6</th>\n",
       "      <td>7</td>\n",
       "      <td>24</td>\n",
       "    </tr>\n",
       "    <tr>\n",
       "      <th>7</th>\n",
       "      <td>8</td>\n",
       "      <td>22</td>\n",
       "    </tr>\n",
       "    <tr>\n",
       "      <th>8</th>\n",
       "      <td>9</td>\n",
       "      <td>24</td>\n",
       "    </tr>\n",
       "  </tbody>\n",
       "</table>\n",
       "</div>"
      ],
      "text/plain": [
       "   season  episodes\n",
       "0       1         5\n",
       "1       2        12\n",
       "2       3        23\n",
       "3       4        24\n",
       "4       5        22\n",
       "5       6        24\n",
       "6       7        24\n",
       "7       8        22\n",
       "8       9        24"
      ]
     },
     "execution_count": 10,
     "metadata": {},
     "output_type": "execute_result"
    }
   ],
   "source": [
    "df.groupby('season').size().reset_index(name='episodes')"
   ]
  },
  {
   "cell_type": "code",
   "execution_count": 11,
   "id": "acda8b7d",
   "metadata": {},
   "outputs": [
    {
     "data": {
      "text/html": [
       "<div>\n",
       "<style scoped>\n",
       "    .dataframe tbody tr th:only-of-type {\n",
       "        vertical-align: middle;\n",
       "    }\n",
       "\n",
       "    .dataframe tbody tr th {\n",
       "        vertical-align: top;\n",
       "    }\n",
       "\n",
       "    .dataframe thead th {\n",
       "        text-align: right;\n",
       "    }\n",
       "</style>\n",
       "<table border=\"1\" class=\"dataframe\">\n",
       "  <thead>\n",
       "    <tr style=\"text-align: right;\">\n",
       "      <th></th>\n",
       "      <th>season</th>\n",
       "      <th>episode_num_in_season</th>\n",
       "      <th>episode_num_overall</th>\n",
       "      <th>title</th>\n",
       "      <th>directed_by</th>\n",
       "      <th>written_by</th>\n",
       "      <th>original_air_date</th>\n",
       "      <th>prod_code</th>\n",
       "      <th>us_viewers</th>\n",
       "    </tr>\n",
       "  </thead>\n",
       "  <tbody>\n",
       "    <tr>\n",
       "      <th>0</th>\n",
       "      <td>1</td>\n",
       "      <td>1</td>\n",
       "      <td>1</td>\n",
       "      <td>Good News, Bad News</td>\n",
       "      <td>Art Wolff</td>\n",
       "      <td>Larry David &amp; Jerry Seinfeld</td>\n",
       "      <td>1989-07-05</td>\n",
       "      <td>101</td>\n",
       "      <td>15400000.0</td>\n",
       "    </tr>\n",
       "    <tr>\n",
       "      <th>1</th>\n",
       "      <td>1</td>\n",
       "      <td>2</td>\n",
       "      <td>2</td>\n",
       "      <td>The Stakeout</td>\n",
       "      <td>Tom Cherones</td>\n",
       "      <td>Larry David &amp; Jerry Seinfeld</td>\n",
       "      <td>1990-05-31</td>\n",
       "      <td>102</td>\n",
       "      <td>22500000.0</td>\n",
       "    </tr>\n",
       "    <tr>\n",
       "      <th>2</th>\n",
       "      <td>1</td>\n",
       "      <td>3</td>\n",
       "      <td>3</td>\n",
       "      <td>The Robbery</td>\n",
       "      <td>Tom Cherones</td>\n",
       "      <td>Matt Goldman</td>\n",
       "      <td>1990-06-07</td>\n",
       "      <td>103</td>\n",
       "      <td>19700000.0</td>\n",
       "    </tr>\n",
       "    <tr>\n",
       "      <th>3</th>\n",
       "      <td>1</td>\n",
       "      <td>4</td>\n",
       "      <td>4</td>\n",
       "      <td>Male Unbonding</td>\n",
       "      <td>Tom Cherones</td>\n",
       "      <td>Larry David &amp; Jerry Seinfeld</td>\n",
       "      <td>1990-06-14</td>\n",
       "      <td>104</td>\n",
       "      <td>19100000.0</td>\n",
       "    </tr>\n",
       "    <tr>\n",
       "      <th>4</th>\n",
       "      <td>1</td>\n",
       "      <td>5</td>\n",
       "      <td>5</td>\n",
       "      <td>The Stock Tip</td>\n",
       "      <td>Tom Cherones</td>\n",
       "      <td>Larry David &amp; Jerry Seinfeld</td>\n",
       "      <td>1990-06-21</td>\n",
       "      <td>105</td>\n",
       "      <td>19400000.0</td>\n",
       "    </tr>\n",
       "  </tbody>\n",
       "</table>\n",
       "</div>"
      ],
      "text/plain": [
       "   season  episode_num_in_season  episode_num_overall                title  \\\n",
       "0       1                      1                    1  Good News, Bad News   \n",
       "1       1                      2                    2         The Stakeout   \n",
       "2       1                      3                    3          The Robbery   \n",
       "3       1                      4                    4       Male Unbonding   \n",
       "4       1                      5                    5        The Stock Tip   \n",
       "\n",
       "    directed_by                    written_by original_air_date  prod_code  \\\n",
       "0     Art Wolff  Larry David & Jerry Seinfeld        1989-07-05        101   \n",
       "1  Tom Cherones  Larry David & Jerry Seinfeld        1990-05-31        102   \n",
       "2  Tom Cherones                  Matt Goldman        1990-06-07        103   \n",
       "3  Tom Cherones  Larry David & Jerry Seinfeld        1990-06-14        104   \n",
       "4  Tom Cherones  Larry David & Jerry Seinfeld        1990-06-21        105   \n",
       "\n",
       "   us_viewers  \n",
       "0  15400000.0  \n",
       "1  22500000.0  \n",
       "2  19700000.0  \n",
       "3  19100000.0  \n",
       "4  19400000.0  "
      ]
     },
     "execution_count": 11,
     "metadata": {},
     "output_type": "execute_result"
    }
   ],
   "source": [
    "df.head()"
   ]
  },
  {
   "cell_type": "code",
   "execution_count": 12,
   "id": "c7355a30",
   "metadata": {
    "scrolled": true
   },
   "outputs": [
    {
     "data": {
      "text/plain": [
       "season                     int64\n",
       "episode_num_in_season      int64\n",
       "episode_num_overall        int64\n",
       "title                     object\n",
       "directed_by               object\n",
       "written_by                object\n",
       "original_air_date         object\n",
       "prod_code                  int64\n",
       "us_viewers               float64\n",
       "dtype: object"
      ]
     },
     "execution_count": 12,
     "metadata": {},
     "output_type": "execute_result"
    }
   ],
   "source": [
    "df.dtypes"
   ]
  },
  {
   "cell_type": "code",
   "execution_count": 13,
   "id": "9f04f784",
   "metadata": {},
   "outputs": [],
   "source": [
    "# adding columns for year, month, day, and weekday\n",
    "#df['year'] = df.original_air_date.dt.year\n",
    "#df['month'] = df.original_air_date.dt.month\n",
    "#df['day'] = df.original_air_date.dt.day\n",
    "#df['weekday'] = df.original_air_date.dt.day_name()\n",
    "#df.head() # check_yo_head"
   ]
  },
  {
   "cell_type": "code",
   "execution_count": 14,
   "id": "d5524a2e",
   "metadata": {},
   "outputs": [
    {
     "data": {
      "text/plain": [
       "season                            int64\n",
       "episode_num_in_season             int64\n",
       "episode_num_overall               int64\n",
       "title                            object\n",
       "directed_by                      object\n",
       "written_by                       object\n",
       "original_air_date        datetime64[ns]\n",
       "prod_code                         int64\n",
       "us_viewers                      float64\n",
       "dtype: object"
      ]
     },
     "execution_count": 14,
     "metadata": {},
     "output_type": "execute_result"
    }
   ],
   "source": [
    "# setting office data to datetime using the date column\n",
    "df.original_air_date = pd.to_datetime(df.original_air_date)\n",
    "df.dtypes"
   ]
  },
  {
   "cell_type": "code",
   "execution_count": 15,
   "id": "85976770",
   "metadata": {},
   "outputs": [
    {
     "data": {
      "text/plain": [
       "['season',\n",
       " 'episode_num_in_season',\n",
       " 'episode_num_overall',\n",
       " 'title',\n",
       " 'directed_by',\n",
       " 'written_by',\n",
       " 'original_air_date',\n",
       " 'prod_code',\n",
       " 'us_viewers']"
      ]
     },
     "execution_count": 15,
     "metadata": {},
     "output_type": "execute_result"
    }
   ],
   "source": [
    "df.columns.tolist()"
   ]
  },
  {
   "cell_type": "code",
   "execution_count": 16,
   "id": "6bc0d79b",
   "metadata": {},
   "outputs": [
    {
     "data": {
      "text/html": [
       "<div>\n",
       "<style scoped>\n",
       "    .dataframe tbody tr th:only-of-type {\n",
       "        vertical-align: middle;\n",
       "    }\n",
       "\n",
       "    .dataframe tbody tr th {\n",
       "        vertical-align: top;\n",
       "    }\n",
       "\n",
       "    .dataframe thead th {\n",
       "        text-align: right;\n",
       "    }\n",
       "</style>\n",
       "<table border=\"1\" class=\"dataframe\">\n",
       "  <thead>\n",
       "    <tr style=\"text-align: right;\">\n",
       "      <th></th>\n",
       "      <th>season</th>\n",
       "      <th>episode_num_in_season</th>\n",
       "      <th>episode_num_overall</th>\n",
       "      <th>title</th>\n",
       "      <th>directed_by</th>\n",
       "      <th>written_by</th>\n",
       "      <th>original_air_date</th>\n",
       "      <th>prod_code</th>\n",
       "      <th>us_viewers</th>\n",
       "    </tr>\n",
       "  </thead>\n",
       "  <tbody>\n",
       "    <tr>\n",
       "      <th>0</th>\n",
       "      <td>1</td>\n",
       "      <td>1</td>\n",
       "      <td>1</td>\n",
       "      <td>Good News, Bad News</td>\n",
       "      <td>Art Wolff</td>\n",
       "      <td>Larry David &amp; Jerry Seinfeld</td>\n",
       "      <td>1989-07-05</td>\n",
       "      <td>101</td>\n",
       "      <td>15400000.0</td>\n",
       "    </tr>\n",
       "    <tr>\n",
       "      <th>1</th>\n",
       "      <td>1</td>\n",
       "      <td>2</td>\n",
       "      <td>2</td>\n",
       "      <td>The Stakeout</td>\n",
       "      <td>Tom Cherones</td>\n",
       "      <td>Larry David &amp; Jerry Seinfeld</td>\n",
       "      <td>1990-05-31</td>\n",
       "      <td>102</td>\n",
       "      <td>22500000.0</td>\n",
       "    </tr>\n",
       "    <tr>\n",
       "      <th>2</th>\n",
       "      <td>1</td>\n",
       "      <td>3</td>\n",
       "      <td>3</td>\n",
       "      <td>The Robbery</td>\n",
       "      <td>Tom Cherones</td>\n",
       "      <td>Matt Goldman</td>\n",
       "      <td>1990-06-07</td>\n",
       "      <td>103</td>\n",
       "      <td>19700000.0</td>\n",
       "    </tr>\n",
       "    <tr>\n",
       "      <th>3</th>\n",
       "      <td>1</td>\n",
       "      <td>4</td>\n",
       "      <td>4</td>\n",
       "      <td>Male Unbonding</td>\n",
       "      <td>Tom Cherones</td>\n",
       "      <td>Larry David &amp; Jerry Seinfeld</td>\n",
       "      <td>1990-06-14</td>\n",
       "      <td>104</td>\n",
       "      <td>19100000.0</td>\n",
       "    </tr>\n",
       "    <tr>\n",
       "      <th>4</th>\n",
       "      <td>1</td>\n",
       "      <td>5</td>\n",
       "      <td>5</td>\n",
       "      <td>The Stock Tip</td>\n",
       "      <td>Tom Cherones</td>\n",
       "      <td>Larry David &amp; Jerry Seinfeld</td>\n",
       "      <td>1990-06-21</td>\n",
       "      <td>105</td>\n",
       "      <td>19400000.0</td>\n",
       "    </tr>\n",
       "  </tbody>\n",
       "</table>\n",
       "</div>"
      ],
      "text/plain": [
       "   season  episode_num_in_season  episode_num_overall                title  \\\n",
       "0       1                      1                    1  Good News, Bad News   \n",
       "1       1                      2                    2         The Stakeout   \n",
       "2       1                      3                    3          The Robbery   \n",
       "3       1                      4                    4       Male Unbonding   \n",
       "4       1                      5                    5        The Stock Tip   \n",
       "\n",
       "    directed_by                    written_by original_air_date  prod_code  \\\n",
       "0     Art Wolff  Larry David & Jerry Seinfeld        1989-07-05        101   \n",
       "1  Tom Cherones  Larry David & Jerry Seinfeld        1990-05-31        102   \n",
       "2  Tom Cherones                  Matt Goldman        1990-06-07        103   \n",
       "3  Tom Cherones  Larry David & Jerry Seinfeld        1990-06-14        104   \n",
       "4  Tom Cherones  Larry David & Jerry Seinfeld        1990-06-21        105   \n",
       "\n",
       "   us_viewers  \n",
       "0  15400000.0  \n",
       "1  22500000.0  \n",
       "2  19700000.0  \n",
       "3  19100000.0  \n",
       "4  19400000.0  "
      ]
     },
     "execution_count": 16,
     "metadata": {},
     "output_type": "execute_result"
    }
   ],
   "source": [
    "df.head()"
   ]
  },
  {
   "cell_type": "code",
   "execution_count": 17,
   "id": "14d120cb",
   "metadata": {},
   "outputs": [
    {
     "data": {
      "text/html": [
       "<div>\n",
       "<style scoped>\n",
       "    .dataframe tbody tr th:only-of-type {\n",
       "        vertical-align: middle;\n",
       "    }\n",
       "\n",
       "    .dataframe tbody tr th {\n",
       "        vertical-align: top;\n",
       "    }\n",
       "\n",
       "    .dataframe thead th {\n",
       "        text-align: right;\n",
       "    }\n",
       "</style>\n",
       "<table border=\"1\" class=\"dataframe\">\n",
       "  <thead>\n",
       "    <tr style=\"text-align: right;\">\n",
       "      <th></th>\n",
       "      <th>season</th>\n",
       "      <th>episode_num_in_season</th>\n",
       "      <th>episode_num_overall</th>\n",
       "      <th>title</th>\n",
       "      <th>directed_by</th>\n",
       "      <th>written_by</th>\n",
       "      <th>prod_code</th>\n",
       "      <th>us_viewers</th>\n",
       "    </tr>\n",
       "    <tr>\n",
       "      <th>original_air_date</th>\n",
       "      <th></th>\n",
       "      <th></th>\n",
       "      <th></th>\n",
       "      <th></th>\n",
       "      <th></th>\n",
       "      <th></th>\n",
       "      <th></th>\n",
       "      <th></th>\n",
       "    </tr>\n",
       "  </thead>\n",
       "  <tbody>\n",
       "    <tr>\n",
       "      <th>1989-07-05</th>\n",
       "      <td>1</td>\n",
       "      <td>1</td>\n",
       "      <td>1</td>\n",
       "      <td>Good News, Bad News</td>\n",
       "      <td>Art Wolff</td>\n",
       "      <td>Larry David &amp; Jerry Seinfeld</td>\n",
       "      <td>101</td>\n",
       "      <td>15400000.0</td>\n",
       "    </tr>\n",
       "    <tr>\n",
       "      <th>1990-05-31</th>\n",
       "      <td>1</td>\n",
       "      <td>2</td>\n",
       "      <td>2</td>\n",
       "      <td>The Stakeout</td>\n",
       "      <td>Tom Cherones</td>\n",
       "      <td>Larry David &amp; Jerry Seinfeld</td>\n",
       "      <td>102</td>\n",
       "      <td>22500000.0</td>\n",
       "    </tr>\n",
       "    <tr>\n",
       "      <th>1990-06-07</th>\n",
       "      <td>1</td>\n",
       "      <td>3</td>\n",
       "      <td>3</td>\n",
       "      <td>The Robbery</td>\n",
       "      <td>Tom Cherones</td>\n",
       "      <td>Matt Goldman</td>\n",
       "      <td>103</td>\n",
       "      <td>19700000.0</td>\n",
       "    </tr>\n",
       "    <tr>\n",
       "      <th>1990-06-14</th>\n",
       "      <td>1</td>\n",
       "      <td>4</td>\n",
       "      <td>4</td>\n",
       "      <td>Male Unbonding</td>\n",
       "      <td>Tom Cherones</td>\n",
       "      <td>Larry David &amp; Jerry Seinfeld</td>\n",
       "      <td>104</td>\n",
       "      <td>19100000.0</td>\n",
       "    </tr>\n",
       "    <tr>\n",
       "      <th>1990-06-21</th>\n",
       "      <td>1</td>\n",
       "      <td>5</td>\n",
       "      <td>5</td>\n",
       "      <td>The Stock Tip</td>\n",
       "      <td>Tom Cherones</td>\n",
       "      <td>Larry David &amp; Jerry Seinfeld</td>\n",
       "      <td>105</td>\n",
       "      <td>19400000.0</td>\n",
       "    </tr>\n",
       "  </tbody>\n",
       "</table>\n",
       "</div>"
      ],
      "text/plain": [
       "                   season  episode_num_in_season  episode_num_overall  \\\n",
       "original_air_date                                                       \n",
       "1989-07-05              1                      1                    1   \n",
       "1990-05-31              1                      2                    2   \n",
       "1990-06-07              1                      3                    3   \n",
       "1990-06-14              1                      4                    4   \n",
       "1990-06-21              1                      5                    5   \n",
       "\n",
       "                                 title   directed_by  \\\n",
       "original_air_date                                      \n",
       "1989-07-05         Good News, Bad News     Art Wolff   \n",
       "1990-05-31                The Stakeout  Tom Cherones   \n",
       "1990-06-07                 The Robbery  Tom Cherones   \n",
       "1990-06-14              Male Unbonding  Tom Cherones   \n",
       "1990-06-21               The Stock Tip  Tom Cherones   \n",
       "\n",
       "                                     written_by  prod_code  us_viewers  \n",
       "original_air_date                                                       \n",
       "1989-07-05         Larry David & Jerry Seinfeld        101  15400000.0  \n",
       "1990-05-31         Larry David & Jerry Seinfeld        102  22500000.0  \n",
       "1990-06-07                         Matt Goldman        103  19700000.0  \n",
       "1990-06-14         Larry David & Jerry Seinfeld        104  19100000.0  \n",
       "1990-06-21         Larry David & Jerry Seinfeld        105  19400000.0  "
      ]
     },
     "execution_count": 17,
     "metadata": {},
     "output_type": "execute_result"
    }
   ],
   "source": [
    "# changing the index of the office data to date after it has been changed to datetime\n",
    "df = df.set_index('original_air_date').sort_index()\n",
    "df.head() # check_yo_head"
   ]
  },
  {
   "cell_type": "code",
   "execution_count": 18,
   "id": "eaa0fd3f",
   "metadata": {},
   "outputs": [
    {
     "data": {
      "text/plain": [
       "[<matplotlib.lines.Line2D at 0x7fe2849fcdf0>]"
      ]
     },
     "execution_count": 18,
     "metadata": {},
     "output_type": "execute_result"
    },
    {
     "data": {
      "image/png": "[encoded data removed]",
      "text/plain": [
       "<Figure size 936x504 with 1 Axes>"
      ]
     },
     "metadata": {},
     "output_type": "display_data"
    }
   ],
   "source": [
    "train_size = .70\n",
    "n = df.shape[0]\n",
    "test_start_index = round(train_size * n)\n",
    "\n",
    "train = df[:test_start_index] # everything up (not including) to the test_start_index\n",
    "test = df[test_start_index:] # everything from the test_start_index to the end\n",
    "\n",
    "plt.plot(train.index, train.us_viewers)\n",
    "plt.plot(test.index, test.us_viewers)"
   ]
  },
  {
   "cell_type": "code",
   "execution_count": 19,
   "id": "dad8c221",
   "metadata": {},
   "outputs": [
    {
     "data": {
      "text/plain": [
       "original_air_date\n",
       "1989-07-05    15400000.0\n",
       "1990-05-31    22500000.0\n",
       "1990-06-07    19700000.0\n",
       "1990-06-14    19100000.0\n",
       "1990-06-21    19400000.0\n",
       "Name: us_viewers, dtype: float64"
      ]
     },
     "execution_count": 19,
     "metadata": {},
     "output_type": "execute_result"
    }
   ],
   "source": [
    "# assigning the train viewership data to y \n",
    "y = train.us_viewers\n",
    "y.head() # check_yo_head"
   ]
  },
  {
   "cell_type": "code",
   "execution_count": 20,
   "id": "c7719220",
   "metadata": {},
   "outputs": [
    {
     "data": {
      "text/plain": [
       "<AxesSubplot:ylabel='Frequency'>"
      ]
     },
     "execution_count": 20,
     "metadata": {},
     "output_type": "execute_result"
    },
    {
     "data": {
      "image/png": "[encoded data removed]",
      "text/plain": [
       "<Figure size 936x504 with 1 Axes>"
      ]
     },
     "metadata": {},
     "output_type": "display_data"
    }
   ],
   "source": [
    "# plotting a histogram of the y data\n",
    "y.plot.hist()"
   ]
  },
  {
   "cell_type": "code",
   "execution_count": 21,
   "id": "38d1cbba",
   "metadata": {},
   "outputs": [
    {
     "data": {
      "text/plain": [
       "[Text(0.5, 1.0, 'Average Views by Month'),\n",
       " Text(0.5, 0, 'Month'),\n",
       " Text(0, 0.5, 'Views')]"
      ]
     },
     "execution_count": 21,
     "metadata": {},
     "output_type": "execute_result"
    },
    {
     "data": {
      "image/png": "[encoded data removed]",
      "text/plain": [
       "<Figure size 936x504 with 1 Axes>"
      ]
     },
     "metadata": {},
     "output_type": "display_data"
    }
   ],
   "source": [
    "# looking at the average viewership by month\n",
    "ax = y.groupby(y.index.month).mean().plot.bar(width=.9, ec='black')\n",
    "plt.xticks(rotation=0)\n",
    "ax.set(title='Average Views by Month', xlabel='Month', ylabel='Views')"
   ]
  },
  {
   "cell_type": "code",
   "execution_count": 22,
   "id": "ebb7e74b",
   "metadata": {},
   "outputs": [
    {
     "data": {
      "text/plain": [
       "<AxesSubplot:title={'center':'Seasonal Plot'}, xlabel='original_air_date'>"
      ]
     },
     "execution_count": 22,
     "metadata": {},
     "output_type": "execute_result"
    },
    {
     "data": {
      "image/png": "[encoded data removed]",
      "text/plain": [
       "<Figure size 936x504 with 1 Axes>"
      ]
     },
     "metadata": {},
     "output_type": "display_data"
    }
   ],
   "source": [
    "# .unstack turns an index level into columns\n",
    "y.groupby([y.index.year, y.index.month]).mean().unstack(0).plot(title='Seasonal Plot')\n",
    "# looking at viewership by year"
   ]
  },
  {
   "cell_type": "code",
   "execution_count": 23,
   "id": "79aec347",
   "metadata": {},
   "outputs": [
    {
     "data": {
      "text/plain": [
       "Text(0.5, 1.0, 'Lag plot with lag=1')"
      ]
     },
     "execution_count": 23,
     "metadata": {},
     "output_type": "execute_result"
    },
    {
     "data": {
      "image/png": "[encoded data removed]",
      "text/plain": [
       "<Figure size 936x504 with 1 Axes>"
      ]
     },
     "metadata": {},
     "output_type": "display_data"
    }
   ],
   "source": [
    "plt.scatter(y, y.shift(-1))\n",
    "plt.xlabel('$y$')\n",
    "plt.ylabel('$y_{t + 1}$')\n",
    "plt.title('Lag plot with lag=1')"
   ]
  },
  {
   "cell_type": "code",
   "execution_count": null,
   "id": "8c68672d",
   "metadata": {},
   "outputs": [],
   "source": []
  }
 ],
 "metadata": {
  "kernelspec": {
   "display_name": "Python 3",
   "language": "python",
   "name": "python3"
  },
  "language_info": {
   "codemirror_mode": {
    "name": "ipython",
    "version": 3
   },
   "file_extension": ".py",
   "mimetype": "text/x-python",
   "name": "python",
   "nbconvert_exporter": "python",
   "pygments_lexer": "ipython3",
   "version": "3.8.8"
  }
 },
 "nbformat": 4,
 "nbformat_minor": 5
}
