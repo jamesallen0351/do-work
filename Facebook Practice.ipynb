{
 "cells": [
  {
   "cell_type": "markdown",
   "id": "3d60c0b5",
   "metadata": {},
   "source": [
    "# Facebook Meta Practice Problems and Notes"
   ]
  },
  {
   "cell_type": "code",
   "execution_count": null,
   "id": "7f5ea103",
   "metadata": {},
   "outputs": [],
   "source": [
    "# Given a binary tree, get the average value at each level of the tree\n",
    "'''\n",
    "input:\n",
    "4\n",
    "/\\\n",
    "7 9\n",
    "/\\  \\\n",
    "18,2 6\n",
    "    \\\n",
    "    6\n",
    "   /\n",
    "  2\n",
    "\n",
    "Output:\n",
    "[4, 8, 6, 6, 2]\n",
    "'''"
   ]
  },
  {
   "cell_type": "code",
   "execution_count": null,
   "id": "6c75c87b",
   "metadata": {},
   "outputs": [],
   "source": [
    "class Node(object):\n",
    "    def __init__(self, v):\n",
    "        self.val = v\n",
    "        self.left = None\n",
    "        self.right = None\n",
    "        \n",
    "def _collect(nade, data, depth = 0):\n",
    "    if not node:\n",
    "        return None\n",
    "    \n",
    "    if depth not in data:\n",
    "        data[depth] = []\n",
    "    \n",
    "    data[depth].append(node.val)\n",
    "    \n",
    "    _collection(node.left, data, depth + 1)\n",
    "    _collection(node.right, data, depth + 1)"
   ]
  }
 ],
 "metadata": {
  "kernelspec": {
   "display_name": "Python 3",
   "language": "python",
   "name": "python3"
  },
  "language_info": {
   "codemirror_mode": {
    "name": "ipython",
    "version": 3
   },
   "file_extension": ".py",
   "mimetype": "text/x-python",
   "name": "python",
   "nbconvert_exporter": "python",
   "pygments_lexer": "ipython3",
   "version": "3.8.8"
  }
 },
 "nbformat": 4,
 "nbformat_minor": 5
}
