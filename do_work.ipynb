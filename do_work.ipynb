{
 "cells": [
  {
   "cell_type": "markdown",
   "id": "1ef1d948",
   "metadata": {},
   "source": [
    "# Do Work"
   ]
  },
  {
   "cell_type": "code",
   "execution_count": 1,
   "id": "305adb22",
   "metadata": {},
   "outputs": [],
   "source": [
    "# imports\n",
    "\n",
    "import pandas as pd"
   ]
  },
  {
   "cell_type": "code",
   "execution_count": 7,
   "id": "d48f20d6",
   "metadata": {},
   "outputs": [
    {
     "name": "stdout",
     "output_type": "stream",
     "text": [
      "If you want the best go for AMD or M1\n"
     ]
    }
   ],
   "source": [
    "class basic():\n",
    "    def higher(self):\n",
    "        print('If you want basic go for intel')\n",
    "        \n",
    "class top():\n",
    "    def lower(self):\n",
    "        print('If you want the best go for AMD or M1')\n",
    "        \n",
    "advice = top()\n",
    "\n",
    "advice.lower()"
   ]
  },
  {
   "cell_type": "code",
   "execution_count": 6,
   "id": "d9b51d87",
   "metadata": {},
   "outputs": [
    {
     "ename": "TypeError",
     "evalue": "wallet() takes no arguments",
     "output_type": "error",
     "traceback": [
      "\u001b[0;31m---------------------------------------------------------------------------\u001b[0m",
      "\u001b[0;31mTypeError\u001b[0m                                 Traceback (most recent call last)",
      "\u001b[0;32m<ipython-input-6-5444280bfc02>\u001b[0m in \u001b[0;36m<module>\u001b[0;34m\u001b[0m\n\u001b[1;32m      7\u001b[0m         \u001b[0mprint\u001b[0m\u001b[0;34m(\u001b[0m\u001b[0;34mf'The Balance of {self.address} is 10 ETH!'\u001b[0m\u001b[0;34m)\u001b[0m\u001b[0;34m\u001b[0m\u001b[0;34m\u001b[0m\u001b[0m\n\u001b[1;32m      8\u001b[0m \u001b[0;34m\u001b[0m\u001b[0m\n\u001b[0;32m----> 9\u001b[0;31m \u001b[0mmy_wallet\u001b[0m \u001b[0;34m=\u001b[0m \u001b[0mwallet\u001b[0m\u001b[0;34m(\u001b[0m\u001b[0;34m\"23232323\"\u001b[0m\u001b[0;34m,\u001b[0m \u001b[0;34m\"XXXXXXX\"\u001b[0m\u001b[0;34m)\u001b[0m\u001b[0;34m\u001b[0m\u001b[0;34m\u001b[0m\u001b[0m\n\u001b[0m\u001b[1;32m     10\u001b[0m \u001b[0mmy_wallet\u001b[0m\u001b[0;34m.\u001b[0m\u001b[0mget_balance\u001b[0m\u001b[0;34m(\u001b[0m\u001b[0;34m)\u001b[0m\u001b[0;34m\u001b[0m\u001b[0;34m\u001b[0m\u001b[0m\n",
      "\u001b[0;31mTypeError\u001b[0m: wallet() takes no arguments"
     ]
    }
   ],
   "source": [
    "class wallet():\n",
    "    def _init_(self, address, private_key):\n",
    "        self.address = address\n",
    "        self.private_key = private_key\n",
    "        \n",
    "    def get_balance(self):\n",
    "        print(f'The Balance of {self.address} is 10 ETH!')\n",
    "        \n",
    "my_wallet = wallet(\"23232323\", \"XXXXXXX\")\n",
    "my_wallet.get_balance()\n",
    "\n",
    "#A) The Balance of 23232323 is 10 ETH!\n",
    "#B) error - method called wrong"
   ]
  },
  {
   "cell_type": "code",
   "execution_count": null,
   "id": "7f55ad26",
   "metadata": {},
   "outputs": [],
   "source": []
  }
 ],
 "metadata": {
  "kernelspec": {
   "display_name": "Python 3",
   "language": "python",
   "name": "python3"
  },
  "language_info": {
   "codemirror_mode": {
    "name": "ipython",
    "version": 3
   },
   "file_extension": ".py",
   "mimetype": "text/x-python",
   "name": "python",
   "nbconvert_exporter": "python",
   "pygments_lexer": "ipython3",
   "version": "3.8.8"
  }
 },
 "nbformat": 4,
 "nbformat_minor": 5
}
