{
 "cells": [
  {
   "cell_type": "markdown",
   "id": "1ef1d948",
   "metadata": {},
   "source": [
    "# Do Work\n",
    "\n",
    "### Python Tech Trivia Quiz Via Twitter Raza Rython"
   ]
  },
  {
   "cell_type": "code",
   "execution_count": 1,
   "id": "305adb22",
   "metadata": {},
   "outputs": [],
   "source": [
    "# imports\n",
    "\n",
    "import pandas as pd"
   ]
  },
  {
   "cell_type": "code",
   "execution_count": 2,
   "id": "d48f20d6",
   "metadata": {},
   "outputs": [
    {
     "name": "stdout",
     "output_type": "stream",
     "text": [
      "If you want the best go for AMD or M1\n"
     ]
    }
   ],
   "source": [
    "class basic():\n",
    "    def higher(self):\n",
    "        print('If you want basic go for intel')\n",
    "        \n",
    "class top():\n",
    "    def lower(self):\n",
    "        print('If you want the best go for AMD or M1')\n",
    "        \n",
    "advice = top()\n",
    "\n",
    "advice.lower()"
   ]
  },
  {
   "cell_type": "code",
   "execution_count": 3,
   "id": "d9b51d87",
   "metadata": {},
   "outputs": [
    {
     "name": "stdout",
     "output_type": "stream",
     "text": [
      "The Balance of 23232323 is 10 ETH!\n"
     ]
    }
   ],
   "source": [
    "class wallet():\n",
    "    def __init__(self, address, private_key):\n",
    "        self.address = address\n",
    "        self.private_key = private_key\n",
    "        \n",
    "    def get_balance(self):\n",
    "        print(f'The Balance of {self.address} is 10 ETH!')\n",
    "        \n",
    "my_wallet = wallet(\"23232323\", \"XXXXXXX\")\n",
    "my_wallet.get_balance()\n",
    "\n",
    "#A) The Balance of 23232323 is 10 ETH!\n",
    "#B) error - method called wrong"
   ]
  },
  {
   "cell_type": "code",
   "execution_count": 4,
   "id": "7f55ad26",
   "metadata": {},
   "outputs": [],
   "source": [
    "def nft_contract():\n",
    "    pass"
   ]
  },
  {
   "cell_type": "code",
   "execution_count": 5,
   "id": "496cc444",
   "metadata": {},
   "outputs": [],
   "source": [
    "class nft_contract():\n",
    "    pass"
   ]
  },
  {
   "cell_type": "code",
   "execution_count": 6,
   "id": "b6c4eba4",
   "metadata": {},
   "outputs": [],
   "source": [
    "class nft_contract():\n",
    "    def __init__(self, network, currency):\n",
    "        self.network = network\n",
    "        self.currency = currency\n",
    "    \n",
    "    def nft_network(self):\n",
    "        print(f' {self.network} is the current network')\n",
    "        \n",
    "    def nft_currency(self):\n",
    "        print(f'The currency on this {self.network} is {self.currency}')\n",
    "        \n",
    "my_nft_contract = nft_contract(\"Ethereum\", \"ETH\")\n",
    "        "
   ]
  },
  {
   "cell_type": "code",
   "execution_count": 7,
   "id": "9cd19605",
   "metadata": {},
   "outputs": [
    {
     "name": "stdout",
     "output_type": "stream",
     "text": [
      " Ethereum is the current network\n"
     ]
    }
   ],
   "source": [
    "#A\n",
    "my_nft_contract.nft_network()"
   ]
  },
  {
   "cell_type": "code",
   "execution_count": 8,
   "id": "b9cb09f2",
   "metadata": {},
   "outputs": [
    {
     "name": "stdout",
     "output_type": "stream",
     "text": [
      " Ethereum is the current network\n",
      "The currency on this Ethereum is ETH\n",
      "None\n"
     ]
    }
   ],
   "source": [
    "cur_and_net = [my_nft_contract.nft_network(), my_nft_contract.nft_currency()]\n",
    "\n",
    "print(cur_and_net[1])"
   ]
  },
  {
   "cell_type": "code",
   "execution_count": 9,
   "id": "ce96a166",
   "metadata": {},
   "outputs": [],
   "source": [
    "class assess():\n",
    "    def __init__(self, cpu, ram, gpu, harddrive):\n",
    "        self.cpu = cpu\n",
    "        self.ram = ram\n",
    "        self.gpu = gpu\n",
    "        self.harddrive = harddrive"
   ]
  },
  {
   "cell_type": "markdown",
   "id": "9478b253",
   "metadata": {},
   "source": [
    "### Practice Python Problem\n",
    "\n",
    "Sum of Integers Up To n (integersums.py)\n",
    "\n",
    "Write a function, add_it_up(), that takes a single integer as input and returns the sum of the integers from zero to the input parameter.\n",
    "\n",
    "The function should return 0 if a non-integer is passed in."
   ]
  },
  {
   "cell_type": "code",
   "execution_count": 10,
   "id": "5ed30805",
   "metadata": {},
   "outputs": [],
   "source": [
    "# practice python\n",
    "# one way of doing it\n",
    "def first(n):\n",
    "    num = 1\n",
    "    sum = 0\n",
    "    while num < n + 1:\n",
    "        sum = sum + num\n",
    "        num = num + 1\n",
    "    return sum"
   ]
  },
  {
   "cell_type": "code",
   "execution_count": 11,
   "id": "d1c3ef85",
   "metadata": {},
   "outputs": [
    {
     "data": {
      "text/plain": [
       "10"
      ]
     },
     "execution_count": 11,
     "metadata": {},
     "output_type": "execute_result"
    }
   ],
   "source": [
    "# testing out the function\n",
    "first(4)"
   ]
  },
  {
   "cell_type": "code",
   "execution_count": 12,
   "id": "caf59383",
   "metadata": {},
   "outputs": [
    {
     "data": {
      "text/plain": [
       "15"
      ]
     },
     "execution_count": 12,
     "metadata": {},
     "output_type": "execute_result"
    }
   ],
   "source": [
    "# testing out the function\n",
    "first(5)"
   ]
  },
  {
   "cell_type": "code",
   "execution_count": 13,
   "id": "6887730b",
   "metadata": {},
   "outputs": [],
   "source": [
    "# best solution\n",
    "# integersums.py\n",
    "def add_it_up(n):\n",
    "    try:\n",
    "        result = sum(range(n + 1))\n",
    "    except TypeError:\n",
    "        result = 0\n",
    "    return result"
   ]
  },
  {
   "cell_type": "code",
   "execution_count": 14,
   "id": "3e5c0d88",
   "metadata": {},
   "outputs": [
    {
     "data": {
      "text/plain": [
       "10"
      ]
     },
     "execution_count": 14,
     "metadata": {},
     "output_type": "execute_result"
    }
   ],
   "source": [
    "# testing out the function\n",
    "add_it_up(4)"
   ]
  },
  {
   "cell_type": "code",
   "execution_count": 15,
   "id": "bdfcb13e",
   "metadata": {},
   "outputs": [
    {
     "data": {
      "text/plain": [
       "15"
      ]
     },
     "execution_count": 15,
     "metadata": {},
     "output_type": "execute_result"
    }
   ],
   "source": [
    "# testing out the function\n",
    "add_it_up(5)"
   ]
  },
  {
   "cell_type": "markdown",
   "id": "d5c3a9b4",
   "metadata": {},
   "source": [
    "### Python Practice Problem 2: Caesar Cipher\n",
    "\n",
    "Caesar Cipher (caesar.py)\n",
    "\n",
    "A Caesar cipher is a simple substitution cipher in which each letter of the plain text is substituted with a letter found by moving n places down the alphabet. For example, assume the input plain text is the following:\n",
    "\n",
    "- abcd xyz\n",
    "\n",
    "If the shift value, n, is 4, then the encrypted text would be the following:\n",
    "\n",
    "- efgh bcd\n",
    "\n",
    "You are to write a function that accepts two arguments, a plain-text message and a number of letters to shift in the cipher. The function will return an encrypted string with all letters transformed and all punctuation and whitespace remaining unchanged.\n",
    "\n",
    "Note: You can assume the plain text is all lowercase ASCII except for whitespace and punctuation."
   ]
  },
  {
   "cell_type": "code",
   "execution_count": 16,
   "id": "4e8e7e5e",
   "metadata": {},
   "outputs": [],
   "source": [
    "# caesar.py\n",
    "import string\n",
    "\n",
    "def caesar(plain_text, shift_num=1):\n",
    "    letters = string.ascii_lowercase\n",
    "    mask = letters[shift_num:] + letters[:shift_num]\n",
    "    trantab = str.maketrans(letters, mask)\n",
    "    return plain_text.translate(trantab)"
   ]
  },
  {
   "cell_type": "code",
   "execution_count": 17,
   "id": "ef5bd111",
   "metadata": {},
   "outputs": [
    {
     "data": {
      "text/plain": [
       "'abcdefghijklmnopqrstuvwxyz'"
      ]
     },
     "execution_count": 17,
     "metadata": {},
     "output_type": "execute_result"
    }
   ],
   "source": [
    "\n",
    "x = string.ascii_lowercase\n",
    "\n",
    "x"
   ]
  },
  {
   "cell_type": "code",
   "execution_count": 18,
   "id": "7f6c31d1",
   "metadata": {},
   "outputs": [
    {
     "data": {
      "text/plain": [
       "'d'"
      ]
     },
     "execution_count": 18,
     "metadata": {},
     "output_type": "execute_result"
    }
   ],
   "source": [
    "x[3]"
   ]
  },
  {
   "cell_type": "code",
   "execution_count": 19,
   "id": "d331c198",
   "metadata": {},
   "outputs": [
    {
     "data": {
      "text/plain": [
       "'abc'"
      ]
     },
     "execution_count": 19,
     "metadata": {},
     "output_type": "execute_result"
    }
   ],
   "source": [
    "x[:3]"
   ]
  },
  {
   "cell_type": "code",
   "execution_count": 20,
   "id": "cd5d3b1d",
   "metadata": {},
   "outputs": [
    {
     "data": {
      "text/plain": [
       "'defghijklmnopqrstuvwxyz'"
      ]
     },
     "execution_count": 20,
     "metadata": {},
     "output_type": "execute_result"
    }
   ],
   "source": [
    "x[3:]"
   ]
  },
  {
   "cell_type": "markdown",
   "id": "a7a58967",
   "metadata": {},
   "source": [
    "### Python Practice Problem 3: Caesar Cipher Redux\n",
    "\n",
    "For the third practice problem, you’ll solve the Caesar cipher again, but this time you’ll do it without using .translate().\n",
    "\n",
    "Problem Description\n",
    "The description of this problem is the same as the previous problem. Before you dive into the solution, you might be wondering why you’re repeating the same exercise, just without the help of .translate().\n",
    "\n",
    "That’s a great question. In normal life, when your goal is to get a working, maintainable program, rewriting parts of the standard library is a poor choice. The Python standard library is packed with working, well-tested, and fast solutions for problems large and small. Taking full advantage of it is a mark of a good programmer.\n",
    "\n",
    "That said, this is not a work project or a program you’re building to satisfy a need. This is a learning exercise, and it’s the type of question that might be asked during an interview. The goal for both is to see how you can solve the problem and what interesting design trade-offs you make while doing it.\n",
    "\n",
    "So, in the spirit of learning, let’s try to resolve the Caesar cipher without .translate().\n",
    "\n"
   ]
  },
  {
   "cell_type": "code",
   "execution_count": 21,
   "id": "96231021",
   "metadata": {},
   "outputs": [],
   "source": [
    "# caesar.py\n",
    "# solution 1\n",
    "import string\n",
    "\n",
    "def shift_n(letter, amount):\n",
    "    if letter not in string.ascii_lowercase:\n",
    "        return letter\n",
    "    new_letter = ord(letter) + amount\n",
    "    while new_letter > ord(\"z\"):\n",
    "        new_letter -= 26\n",
    "    while new_letter < ord(\"a\"):\n",
    "        new_letter += 26\n",
    "    return chr(new_letter)\n",
    "\n",
    "def caesar(message, amount):\n",
    "    enc_list = [shift_n(letter, amount) for letter in message]\n",
    "    return \"\".join(enc_list)"
   ]
  },
  {
   "cell_type": "code",
   "execution_count": 22,
   "id": "0353bda8",
   "metadata": {},
   "outputs": [],
   "source": [
    "# caesar.py\n",
    "# solution 2\n",
    "import string\n",
    "\n",
    "def shift_n(letter, table):\n",
    "    try:\n",
    "        index = string.ascii_lowercase.index(letter)\n",
    "        return table[index]\n",
    "    except ValueError:\n",
    "        return letter\n",
    "\n",
    "def caesar(message, amount):\n",
    "    amount = amount % 26\n",
    "    table = string.ascii_lowercase[amount:] + string.ascii_lowercase[:amount]\n",
    "    enc_list = [shift_n(letter, table) for letter in message]\n",
    "    return \"\".join(enc_list)"
   ]
  },
  {
   "cell_type": "markdown",
   "id": "13a12efe",
   "metadata": {},
   "source": [
    "### Python Practice Problem 4: Log Parser\n",
    "\n",
    "The log parser problem is one that occurs frequently in software development. Many systems produce log files during normal operation, and sometimes you’ll need to parse these files to find anomalies or general information about the running system.\n",
    "\n",
    "\n",
    "#### Problem Description\n",
    "\n",
    "For this problem, you’ll need to parse a log file with a specified format and generate a report:\n",
    "\n",
    "- Log Parser (logparse.py)\n",
    "\n",
    "Accepts a filename on the command line. The file is a Linux-like log file from a system you are debugging. Mixed in among the various statements are messages indicating the state of the device. They look like this:\n",
    "\n",
    "Jul 11 16:11:51:490 [139681125603136] dut: Device State: ON\n",
    "\n",
    "The device state message has many possible values, but this program cares about only three: ON, OFF, and ERR.\n",
    "\n",
    "Your program will parse the given log file and print out a report giving how long the device was ON and the timestamp of any ERR conditions.\n",
    "\n",
    "\n",
    "\n"
   ]
  },
  {
   "cell_type": "code",
   "execution_count": 23,
   "id": "bbffa858",
   "metadata": {},
   "outputs": [
    {
     "ename": "FileNotFoundError",
     "evalue": "[Errno 2] No such file or directory: '-f'",
     "output_type": "error",
     "traceback": [
      "\u001b[0;31m---------------------------------------------------------------------------\u001b[0m",
      "\u001b[0;31mFileNotFoundError\u001b[0m                         Traceback (most recent call last)",
      "\u001b[0;32m<ipython-input-23-b9beaff88f6d>\u001b[0m in \u001b[0;36m<module>\u001b[0;34m\u001b[0m\n\u001b[1;32m     37\u001b[0m \u001b[0;34m\u001b[0m\u001b[0m\n\u001b[1;32m     38\u001b[0m \u001b[0;32mif\u001b[0m \u001b[0m__name__\u001b[0m \u001b[0;34m==\u001b[0m \u001b[0;34m\"__main__\"\u001b[0m\u001b[0;34m:\u001b[0m\u001b[0;34m\u001b[0m\u001b[0;34m\u001b[0m\u001b[0m\n\u001b[0;32m---> 39\u001b[0;31m     \u001b[0mtotal_time_on\u001b[0m\u001b[0;34m,\u001b[0m \u001b[0merrs\u001b[0m \u001b[0;34m=\u001b[0m \u001b[0mextract_data\u001b[0m\u001b[0;34m(\u001b[0m\u001b[0msys\u001b[0m\u001b[0;34m.\u001b[0m\u001b[0margv\u001b[0m\u001b[0;34m[\u001b[0m\u001b[0;36m1\u001b[0m\u001b[0;34m]\u001b[0m\u001b[0;34m)\u001b[0m\u001b[0;34m\u001b[0m\u001b[0;34m\u001b[0m\u001b[0m\n\u001b[0m\u001b[1;32m     40\u001b[0m     \u001b[0mprint\u001b[0m\u001b[0;34m(\u001b[0m\u001b[0;34mf\"Device was on for {total_time_on} seconds\"\u001b[0m\u001b[0;34m)\u001b[0m\u001b[0;34m\u001b[0m\u001b[0;34m\u001b[0m\u001b[0m\n\u001b[1;32m     41\u001b[0m     \u001b[0;32mif\u001b[0m \u001b[0merrs\u001b[0m\u001b[0;34m:\u001b[0m\u001b[0;34m\u001b[0m\u001b[0;34m\u001b[0m\u001b[0m\n",
      "\u001b[0;32m<ipython-input-23-b9beaff88f6d>\u001b[0m in \u001b[0;36mextract_data\u001b[0;34m(filename)\u001b[0m\n\u001b[1;32m     24\u001b[0m     \u001b[0mtotal_time_on\u001b[0m \u001b[0;34m=\u001b[0m \u001b[0;36m0\u001b[0m\u001b[0;34m\u001b[0m\u001b[0;34m\u001b[0m\u001b[0m\n\u001b[1;32m     25\u001b[0m \u001b[0;34m\u001b[0m\u001b[0m\n\u001b[0;32m---> 26\u001b[0;31m     \u001b[0;32mfor\u001b[0m \u001b[0maction\u001b[0m\u001b[0;34m,\u001b[0m \u001b[0mtimestamp\u001b[0m \u001b[0;32min\u001b[0m \u001b[0mget_next_event\u001b[0m\u001b[0;34m(\u001b[0m\u001b[0mfilename\u001b[0m\u001b[0;34m)\u001b[0m\u001b[0;34m:\u001b[0m\u001b[0;34m\u001b[0m\u001b[0;34m\u001b[0m\u001b[0m\n\u001b[0m\u001b[1;32m     27\u001b[0m         \u001b[0;31m# First test for errs\u001b[0m\u001b[0;34m\u001b[0m\u001b[0;34m\u001b[0m\u001b[0;34m\u001b[0m\u001b[0m\n\u001b[1;32m     28\u001b[0m         \u001b[0;32mif\u001b[0m \u001b[0;34m\"ERR\"\u001b[0m \u001b[0;34m==\u001b[0m \u001b[0maction\u001b[0m\u001b[0;34m:\u001b[0m\u001b[0;34m\u001b[0m\u001b[0;34m\u001b[0m\u001b[0m\n",
      "\u001b[0;32m<ipython-input-23-b9beaff88f6d>\u001b[0m in \u001b[0;36mget_next_event\u001b[0;34m(filename)\u001b[0m\n\u001b[1;32m      4\u001b[0m \u001b[0;34m\u001b[0m\u001b[0m\n\u001b[1;32m      5\u001b[0m \u001b[0;32mdef\u001b[0m \u001b[0mget_next_event\u001b[0m\u001b[0;34m(\u001b[0m\u001b[0mfilename\u001b[0m\u001b[0;34m)\u001b[0m\u001b[0;34m:\u001b[0m\u001b[0;34m\u001b[0m\u001b[0;34m\u001b[0m\u001b[0m\n\u001b[0;32m----> 6\u001b[0;31m     \u001b[0;32mwith\u001b[0m \u001b[0mopen\u001b[0m\u001b[0;34m(\u001b[0m\u001b[0mfilename\u001b[0m\u001b[0;34m,\u001b[0m \u001b[0;34m\"r\"\u001b[0m\u001b[0;34m)\u001b[0m \u001b[0;32mas\u001b[0m \u001b[0mdatafile\u001b[0m\u001b[0;34m:\u001b[0m\u001b[0;34m\u001b[0m\u001b[0;34m\u001b[0m\u001b[0m\n\u001b[0m\u001b[1;32m      7\u001b[0m         \u001b[0;32mfor\u001b[0m \u001b[0mline\u001b[0m \u001b[0;32min\u001b[0m \u001b[0mdatafile\u001b[0m\u001b[0;34m:\u001b[0m\u001b[0;34m\u001b[0m\u001b[0;34m\u001b[0m\u001b[0m\n\u001b[1;32m      8\u001b[0m             \u001b[0;32mif\u001b[0m \u001b[0;34m\"dut: Device State: \"\u001b[0m \u001b[0;32min\u001b[0m \u001b[0mline\u001b[0m\u001b[0;34m:\u001b[0m\u001b[0;34m\u001b[0m\u001b[0;34m\u001b[0m\u001b[0m\n",
      "\u001b[0;31mFileNotFoundError\u001b[0m: [Errno 2] No such file or directory: '-f'"
     ]
    }
   ],
   "source": [
    "# logparse.py\n",
    "import datetime\n",
    "import sys\n",
    "\n",
    "def get_next_event(filename):\n",
    "    with open(filename, \"r\") as datafile:\n",
    "        for line in datafile:\n",
    "            if \"dut: Device State: \" in line:\n",
    "                line = line.strip()\n",
    "                # Parse out the action and timestamp\n",
    "                action = line.split()[-1]\n",
    "                timestamp = line[:19]\n",
    "                yield (action, timestamp)\n",
    "\n",
    "def compute_time_diff_seconds(start, end):\n",
    "    format = \"%b %d %H:%M:%S:%f\"\n",
    "    start_time = datetime.datetime.strptime(start, format)\n",
    "    end_time = datetime.datetime.strptime(end, format)\n",
    "    return (end_time - start_time).total_seconds()\n",
    "\n",
    "def extract_data(filename):\n",
    "    time_on_started = None\n",
    "    errs = []\n",
    "    total_time_on = 0\n",
    "\n",
    "    for action, timestamp in get_next_event(filename):\n",
    "        # First test for errs\n",
    "        if \"ERR\" == action:\n",
    "            errs.append(timestamp)\n",
    "        elif (\"ON\" == action) and (not time_on_started):\n",
    "            time_on_started = timestamp\n",
    "        elif (\"OFF\" == action) and time_on_started:\n",
    "            time_on = compute_time_diff_seconds(time_on_started, timestamp)\n",
    "            total_time_on += time_on\n",
    "            time_on_started = None\n",
    "    return total_time_on, errs\n",
    "\n",
    "if __name__ == \"__main__\":\n",
    "    total_time_on, errs = extract_data(sys.argv[1])\n",
    "    print(f\"Device was on for {total_time_on} seconds\")\n",
    "    if errs:\n",
    "        print(\"Timestamps of error events:\")\n",
    "        for err in errs:\n",
    "            print(f\"\\t{err}\")\n",
    "    else:\n",
    "        print(\"No error events found.\")"
   ]
  },
  {
   "cell_type": "code",
   "execution_count": null,
   "id": "c175d1f8",
   "metadata": {},
   "outputs": [],
   "source": []
  },
  {
   "cell_type": "markdown",
   "id": "fc317f27",
   "metadata": {},
   "source": [
    "### Python Practice Problem 5: Sudoku Solver\n",
    "\n",
    "Your final Python practice problem is to solve a sudoku puzzle!\n",
    "\n",
    "Finding a fast and memory-efficient solution to this problem can be quite a challenge. The solution you’ll examine has been selected for readability rather than speed, but you’re free to optimize your solution as much as you want.\n",
    "\n",
    "Problem Description\n",
    "The description for the sudoku solver is a little more involved than the previous problems:\n",
    "\n",
    "Sudoku Solver (sudokusolve.py)\n",
    "\n",
    "Given a string in SDM format, described below, write a program to find and return the solution for the sudoku puzzle in the string. The solution should be returned in the same SDM format as the input.\n",
    "\n",
    "Some puzzles will not be solvable. In that case, return the string “Unsolvable”.\n",
    "\n",
    "The general SDM format is described here.\n",
    "\n",
    "For our purposes, each SDM string will be a sequence of 81 digits, one for each position on the sudoku puzzle. Known numbers will be given, and unknown positions will have a zero value.\n",
    "\n",
    "For example, assume you’re given this string of digits:\n",
    "\n",
    "004006079000000602056092300078061030509000406020540890007410920105000000840600100\n",
    "The string represents this starting sudoku puzzle:\n",
    "\n",
    "0 0 4   0 0 6   0 7 9\n",
    "0 0 0   0 0 0   6 0 2\n",
    "0 5 6   0 9 2   3 0 0\n",
    "\n",
    "0 7 8   0 6 1   0 3 0\n",
    "5 0 9   0 0 0   4 0 6\n",
    "0 2 0   5 4 0   8 9 0\n",
    "\n",
    "0 0 7   4 1 0   9 2 0\n",
    "1 0 5   0 0 0   0 0 0\n",
    "8 4 0   6 0 0   1 0 0\n",
    "The provided unit tests may take a while to run, so be patient.\n",
    "\n",
    "Note: A description of the sudoku puzzle can be found on Wikipedia.\n",
    "\n",
    "You can see that you’ll need to deal with reading and writing to a particular format as well as generating a solution."
   ]
  },
  {
   "cell_type": "code",
   "execution_count": 24,
   "id": "eaf3306e",
   "metadata": {},
   "outputs": [],
   "source": [
    "# sudokusolve.py\n",
    "def line_to_grid(values):\n",
    "    grid = []\n",
    "    line = []\n",
    "    for index, char in enumerate(values):\n",
    "        if index and index % 9 == 0:\n",
    "            grid.append(line)\n",
    "            line = []\n",
    "        line.append(int(char))\n",
    "    # Add the final line\n",
    "    grid.append(line)\n",
    "    return grid\n",
    "\n",
    "def grid_to_line(grid):\n",
    "    line = \"\"\n",
    "    for row in grid:\n",
    "        r = \"\".join(str(x) for x in row)\n",
    "        line += r\n",
    "    return line"
   ]
  },
  {
   "cell_type": "code",
   "execution_count": 25,
   "id": "c7da070d",
   "metadata": {},
   "outputs": [
    {
     "name": "stdout",
     "output_type": "stream",
     "text": [
      "What is your name: Toby\n",
      "Your name is Toby\n"
     ]
    }
   ],
   "source": [
    "name = input(\"What is your name: \")\n",
    "\n",
    "print(\"Your name is \" + name)"
   ]
  },
  {
   "cell_type": "code",
   "execution_count": 26,
   "id": "5da97856",
   "metadata": {},
   "outputs": [
    {
     "name": "stdout",
     "output_type": "stream",
     "text": [
      "Enter your age: 21\n",
      "Your are 21 years old\n"
     ]
    }
   ],
   "source": [
    "age = int(input(\"Enter your age: \"))\n",
    "\n",
    "print(\"Your are\", age, \"years old\")"
   ]
  },
  {
   "cell_type": "code",
   "execution_count": 27,
   "id": "188e81a9",
   "metadata": {},
   "outputs": [
    {
     "name": "stdout",
     "output_type": "stream",
     "text": [
      "Werewolf\n",
      "Doorman\n",
      "4chan\n",
      "4chan\n"
     ]
    }
   ],
   "source": [
    "print(\"Were\" + \"wolf\")\n",
    "print(\"Door\" + \"man\")\n",
    "print(\"4\" + \"chan\")\n",
    "print(str(4) + \"chan\")"
   ]
  },
  {
   "cell_type": "code",
   "execution_count": 28,
   "id": "7025cfb7",
   "metadata": {},
   "outputs": [
    {
     "name": "stdout",
     "output_type": "stream",
     "text": [
      "testtesttesttest\n"
     ]
    }
   ],
   "source": [
    "print(4 * \"test\")"
   ]
  },
  {
   "cell_type": "code",
   "execution_count": 30,
   "id": "a9f298f0",
   "metadata": {
    "scrolled": true
   },
   "outputs": [
    {
     "name": "stdout",
     "output_type": "stream",
     "text": [
      "Enter your age: 21\n",
      "can see a rated R movie\n"
     ]
    }
   ],
   "source": [
    "age = int(input(\"Enter your age: \"))\n",
    "\n",
    "if age > 17: \n",
    "  print(\"can see a rated R movie\")\n",
    "elif age < 17 and age > 12:\n",
    "  print(\"can see a rated PG-13 movie\")\n",
    "else: \n",
    "  print(\"can only see rated PG movies\")"
   ]
  },
  {
   "cell_type": "code",
   "execution_count": 31,
   "id": "0ffb9430",
   "metadata": {},
   "outputs": [
    {
     "name": "stdout",
     "output_type": "stream",
     "text": [
      "Enter your age: 12\n",
      "can only see rated PG movies\n"
     ]
    }
   ],
   "source": [
    "age = int(input(\"Enter your age: \"))\n",
    "\n",
    "if age > 17: \n",
    "  print(\"can see a rated R movie\")\n",
    "elif age < 17 and age > 12:\n",
    "  print(\"can see a rated PG-13 movie\")\n",
    "else: \n",
    "  print(\"can only see rated PG movies\")"
   ]
  },
  {
   "cell_type": "code",
   "execution_count": 32,
   "id": "ada64c09",
   "metadata": {},
   "outputs": [
    {
     "name": "stdout",
     "output_type": "stream",
     "text": [
      "Enter your age: 13\n",
      "can see a rated PG-13 movie\n"
     ]
    }
   ],
   "source": [
    "age = int(input(\"Enter your age: \"))\n",
    "\n",
    "if age > 17: \n",
    "  print(\"can see a rated R movie\")\n",
    "elif age < 17 and age > 12:\n",
    "  print(\"can see a rated PG-13 movie\")\n",
    "else: \n",
    "  print(\"can only see rated PG movies\")"
   ]
  },
  {
   "cell_type": "code",
   "execution_count": 33,
   "id": "4aed2522",
   "metadata": {},
   "outputs": [
    {
     "name": "stdout",
     "output_type": "stream",
     "text": [
      "Enter a number: 3\n",
      "the variable has the value 3\n"
     ]
    }
   ],
   "source": [
    "a = int(input(\"Enter a number: \"))\n",
    "\n",
    "if a == 3: \n",
    "  print(\"the variable has the value 3\")\n",
    "elif a != 3:\n",
    "  print(\"the variable does not have the value 3\")"
   ]
  },
  {
   "cell_type": "code",
   "execution_count": 34,
   "id": "f45c15ca",
   "metadata": {},
   "outputs": [
    {
     "name": "stdout",
     "output_type": "stream",
     "text": [
      "Enter a number: 7\n",
      "the variable does not have the value 3\n"
     ]
    }
   ],
   "source": [
    "a = int(input(\"Enter a number: \"))\n",
    "\n",
    "if a == 3: \n",
    "  print(\"the variable has the value 3\")\n",
    "elif a != 3:\n",
    "  print(\"the variable does not have the value 3\")"
   ]
  },
  {
   "cell_type": "code",
   "execution_count": 35,
   "id": "236a24aa",
   "metadata": {},
   "outputs": [],
   "source": [
    "# lists\n",
    "a = [1, 1, 2, 3, 5, 8, 13, 21, 34, 55, 89]"
   ]
  },
  {
   "cell_type": "code",
   "execution_count": 36,
   "id": "f334cd7e",
   "metadata": {},
   "outputs": [],
   "source": [
    "x = []"
   ]
  },
  {
   "cell_type": "code",
   "execution_count": 37,
   "id": "0fee3432",
   "metadata": {},
   "outputs": [],
   "source": [
    "x.append(1)"
   ]
  },
  {
   "cell_type": "code",
   "execution_count": 38,
   "id": "d4b1e354",
   "metadata": {},
   "outputs": [
    {
     "data": {
      "text/plain": [
       "[1]"
      ]
     },
     "execution_count": 38,
     "metadata": {},
     "output_type": "execute_result"
    }
   ],
   "source": [
    "x"
   ]
  },
  {
   "cell_type": "code",
   "execution_count": 39,
   "id": "c1f5f3b8",
   "metadata": {},
   "outputs": [],
   "source": [
    "x.append(2)"
   ]
  },
  {
   "cell_type": "code",
   "execution_count": 40,
   "id": "9a0e5c77",
   "metadata": {},
   "outputs": [
    {
     "data": {
      "text/plain": [
       "[1, 2]"
      ]
     },
     "execution_count": 40,
     "metadata": {},
     "output_type": "execute_result"
    }
   ],
   "source": [
    "x"
   ]
  },
  {
   "cell_type": "code",
   "execution_count": 3,
   "id": "c9d70b12",
   "metadata": {},
   "outputs": [],
   "source": [
    " x = range(2, 11)"
   ]
  },
  {
   "cell_type": "code",
   "execution_count": 4,
   "id": "b24976ef",
   "metadata": {},
   "outputs": [
    {
     "data": {
      "text/plain": [
       "range(2, 11)"
      ]
     },
     "execution_count": 4,
     "metadata": {},
     "output_type": "execute_result"
    }
   ],
   "source": [
    "x"
   ]
  },
  {
   "cell_type": "code",
   "execution_count": 5,
   "id": "74d1c6e3",
   "metadata": {},
   "outputs": [
    {
     "name": "stdout",
     "output_type": "stream",
     "text": [
      "2\n",
      "3\n",
      "4\n",
      "5\n",
      "6\n",
      "7\n",
      "8\n",
      "9\n",
      "10\n"
     ]
    }
   ],
   "source": [
    "for elem in x: \n",
    "    print(elem)"
   ]
  },
  {
   "cell_type": "code",
   "execution_count": null,
   "id": "38823449",
   "metadata": {},
   "outputs": [],
   "source": []
  }
 ],
 "metadata": {
  "kernelspec": {
   "display_name": "Python 3",
   "language": "python",
   "name": "python3"
  },
  "language_info": {
   "codemirror_mode": {
    "name": "ipython",
    "version": 3
   },
   "file_extension": ".py",
   "mimetype": "text/x-python",
   "name": "python",
   "nbconvert_exporter": "python",
   "pygments_lexer": "ipython3",
   "version": "3.8.8"
  }
 },
 "nbformat": 4,
 "nbformat_minor": 5
}
