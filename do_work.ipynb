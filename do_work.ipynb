{
 "cells": [
  {
   "cell_type": "markdown",
   "id": "1ef1d948",
   "metadata": {},
   "source": [
    "# Do Work\n",
    "\n",
    "### Python Tech Trivia Quiz Via Twitter Raza Rython"
   ]
  },
  {
   "cell_type": "code",
   "execution_count": 1,
   "id": "305adb22",
   "metadata": {},
   "outputs": [],
   "source": [
    "# imports\n",
    "\n",
    "import pandas as pd"
   ]
  },
  {
   "cell_type": "code",
   "execution_count": 2,
   "id": "d48f20d6",
   "metadata": {},
   "outputs": [
    {
     "name": "stdout",
     "output_type": "stream",
     "text": [
      "If you want the best go for AMD or M1\n"
     ]
    }
   ],
   "source": [
    "class basic():\n",
    "    def higher(self):\n",
    "        print('If you want basic go for intel')\n",
    "        \n",
    "class top():\n",
    "    def lower(self):\n",
    "        print('If you want the best go for AMD or M1')\n",
    "        \n",
    "advice = top()\n",
    "\n",
    "advice.lower()"
   ]
  },
  {
   "cell_type": "code",
   "execution_count": 8,
   "id": "d9b51d87",
   "metadata": {},
   "outputs": [
    {
     "name": "stdout",
     "output_type": "stream",
     "text": [
      "The Balance of 23232323 is 10 ETH!\n"
     ]
    }
   ],
   "source": [
    "class wallet():\n",
    "    def __init__(self, address, private_key):\n",
    "        self.address = address\n",
    "        self.private_key = private_key\n",
    "        \n",
    "    def get_balance(self):\n",
    "        print(f'The Balance of {self.address} is 10 ETH!')\n",
    "        \n",
    "my_wallet = wallet(\"23232323\", \"XXXXXXX\")\n",
    "my_wallet.get_balance()\n",
    "\n",
    "#A) The Balance of 23232323 is 10 ETH!\n",
    "#B) error - method called wrong"
   ]
  },
  {
   "cell_type": "code",
   "execution_count": 6,
   "id": "7f55ad26",
   "metadata": {},
   "outputs": [],
   "source": [
    "def nft_contract():\n",
    "    pass"
   ]
  },
  {
   "cell_type": "code",
   "execution_count": 7,
   "id": "496cc444",
   "metadata": {},
   "outputs": [],
   "source": [
    "class nft_contract():\n",
    "    pass"
   ]
  },
  {
   "cell_type": "code",
   "execution_count": null,
   "id": "b6c4eba4",
   "metadata": {},
   "outputs": [],
   "source": []
  }
 ],
 "metadata": {
  "kernelspec": {
   "display_name": "Python 3",
   "language": "python",
   "name": "python3"
  },
  "language_info": {
   "codemirror_mode": {
    "name": "ipython",
    "version": 3
   },
   "file_extension": ".py",
   "mimetype": "text/x-python",
   "name": "python",
   "nbconvert_exporter": "python",
   "pygments_lexer": "ipython3",
   "version": "3.8.8"
  }
 },
 "nbformat": 4,
 "nbformat_minor": 5
}
