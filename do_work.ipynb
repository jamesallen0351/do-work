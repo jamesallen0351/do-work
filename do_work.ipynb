{
 "cells": [
  {
   "cell_type": "markdown",
   "id": "1ef1d948",
   "metadata": {},
   "source": [
    "# Do Work\n",
    "\n",
    "### Python Tech Trivia Quiz Via Twitter Raza Rython"
   ]
  },
  {
   "cell_type": "code",
   "execution_count": 1,
   "id": "305adb22",
   "metadata": {},
   "outputs": [],
   "source": [
    "# imports\n",
    "\n",
    "import pandas as pd"
   ]
  },
  {
   "cell_type": "code",
   "execution_count": 2,
   "id": "d48f20d6",
   "metadata": {},
   "outputs": [
    {
     "name": "stdout",
     "output_type": "stream",
     "text": [
      "If you want the best go for AMD or M1\n"
     ]
    }
   ],
   "source": [
    "class basic():\n",
    "    def higher(self):\n",
    "        print('If you want basic go for intel')\n",
    "        \n",
    "class top():\n",
    "    def lower(self):\n",
    "        print('If you want the best go for AMD or M1')\n",
    "        \n",
    "advice = top()\n",
    "\n",
    "advice.lower()"
   ]
  },
  {
   "cell_type": "code",
   "execution_count": 3,
   "id": "d9b51d87",
   "metadata": {},
   "outputs": [
    {
     "name": "stdout",
     "output_type": "stream",
     "text": [
      "The Balance of 23232323 is 10 ETH!\n"
     ]
    }
   ],
   "source": [
    "class wallet():\n",
    "    def __init__(self, address, private_key):\n",
    "        self.address = address\n",
    "        self.private_key = private_key\n",
    "        \n",
    "    def get_balance(self):\n",
    "        print(f'The Balance of {self.address} is 10 ETH!')\n",
    "        \n",
    "my_wallet = wallet(\"23232323\", \"XXXXXXX\")\n",
    "my_wallet.get_balance()\n",
    "\n",
    "#A) The Balance of 23232323 is 10 ETH!\n",
    "#B) error - method called wrong"
   ]
  },
  {
   "cell_type": "code",
   "execution_count": 4,
   "id": "7f55ad26",
   "metadata": {},
   "outputs": [],
   "source": [
    "def nft_contract():\n",
    "    pass"
   ]
  },
  {
   "cell_type": "code",
   "execution_count": 5,
   "id": "496cc444",
   "metadata": {},
   "outputs": [],
   "source": [
    "class nft_contract():\n",
    "    pass"
   ]
  },
  {
   "cell_type": "code",
   "execution_count": 6,
   "id": "b6c4eba4",
   "metadata": {},
   "outputs": [],
   "source": [
    "class nft_contract():\n",
    "    def __init__(self, network, currency):\n",
    "        self.network = network\n",
    "        self.currency = currency\n",
    "    \n",
    "    def nft_network(self):\n",
    "        print(f' {self.network} is the current network')\n",
    "        \n",
    "    def nft_currency(self):\n",
    "        print(f'The currency on this {self.network} is {self.currency}')\n",
    "        \n",
    "my_nft_contract = nft_contract(\"Ethereum\", \"ETH\")\n",
    "        "
   ]
  },
  {
   "cell_type": "code",
   "execution_count": 7,
   "id": "9cd19605",
   "metadata": {},
   "outputs": [
    {
     "name": "stdout",
     "output_type": "stream",
     "text": [
      " Ethereum is the current network\n"
     ]
    }
   ],
   "source": [
    "#A\n",
    "my_nft_contract.nft_network()"
   ]
  },
  {
   "cell_type": "code",
   "execution_count": 8,
   "id": "b9cb09f2",
   "metadata": {},
   "outputs": [
    {
     "name": "stdout",
     "output_type": "stream",
     "text": [
      " Ethereum is the current network\n",
      "The currency on this Ethereum is ETH\n",
      "None\n"
     ]
    }
   ],
   "source": [
    "cur_and_net = [my_nft_contract.nft_network(), my_nft_contract.nft_currency()]\n",
    "\n",
    "print(cur_and_net[1])"
   ]
  },
  {
   "cell_type": "code",
   "execution_count": null,
   "id": "ce96a166",
   "metadata": {},
   "outputs": [],
   "source": []
  },
  {
   "cell_type": "markdown",
   "id": "9478b253",
   "metadata": {},
   "source": [
    "### Practice Python Problem\n",
    "\n",
    "Sum of Integers Up To n (integersums.py)\n",
    "\n",
    "Write a function, add_it_up(), that takes a single integer as input and returns the sum of the integers from zero to the input parameter.\n",
    "\n",
    "The function should return 0 if a non-integer is passed in."
   ]
  },
  {
   "cell_type": "code",
   "execution_count": 9,
   "id": "5ed30805",
   "metadata": {},
   "outputs": [],
   "source": [
    "# practice python\n",
    "# one way of doing it\n",
    "def first(n):\n",
    "    num = 1\n",
    "    sum = 0\n",
    "    while num < n + 1:\n",
    "        sum = sum + num\n",
    "        num = num + 1\n",
    "    return sum"
   ]
  },
  {
   "cell_type": "code",
   "execution_count": 10,
   "id": "d1c3ef85",
   "metadata": {},
   "outputs": [
    {
     "data": {
      "text/plain": [
       "10"
      ]
     },
     "execution_count": 10,
     "metadata": {},
     "output_type": "execute_result"
    }
   ],
   "source": [
    "# testing out the function\n",
    "first(4)"
   ]
  },
  {
   "cell_type": "code",
   "execution_count": 11,
   "id": "caf59383",
   "metadata": {},
   "outputs": [
    {
     "data": {
      "text/plain": [
       "15"
      ]
     },
     "execution_count": 11,
     "metadata": {},
     "output_type": "execute_result"
    }
   ],
   "source": [
    "# testing out the function\n",
    "first(5)"
   ]
  },
  {
   "cell_type": "code",
   "execution_count": 12,
   "id": "6887730b",
   "metadata": {},
   "outputs": [],
   "source": [
    "# best solution\n",
    "# integersums.py\n",
    "def add_it_up(n):\n",
    "    try:\n",
    "        result = sum(range(n + 1))\n",
    "    except TypeError:\n",
    "        result = 0\n",
    "    return result"
   ]
  },
  {
   "cell_type": "code",
   "execution_count": 13,
   "id": "3e5c0d88",
   "metadata": {},
   "outputs": [
    {
     "data": {
      "text/plain": [
       "10"
      ]
     },
     "execution_count": 13,
     "metadata": {},
     "output_type": "execute_result"
    }
   ],
   "source": [
    "# testing out the function\n",
    "add_it_up(4)"
   ]
  },
  {
   "cell_type": "code",
   "execution_count": 14,
   "id": "bdfcb13e",
   "metadata": {},
   "outputs": [
    {
     "data": {
      "text/plain": [
       "15"
      ]
     },
     "execution_count": 14,
     "metadata": {},
     "output_type": "execute_result"
    }
   ],
   "source": [
    "# testing out the function\n",
    "add_it_up(5)"
   ]
  },
  {
   "cell_type": "markdown",
   "id": "d5c3a9b4",
   "metadata": {},
   "source": [
    "### Python Practice Problem 2: Caesar Cipher\n",
    "\n",
    "Caesar Cipher (caesar.py)\n",
    "\n",
    "A Caesar cipher is a simple substitution cipher in which each letter of the plain text is substituted with a letter found by moving n places down the alphabet. For example, assume the input plain text is the following:\n",
    "\n",
    "- abcd xyz\n",
    "\n",
    "If the shift value, n, is 4, then the encrypted text would be the following:\n",
    "\n",
    "- efgh bcd\n",
    "\n",
    "You are to write a function that accepts two arguments, a plain-text message and a number of letters to shift in the cipher. The function will return an encrypted string with all letters transformed and all punctuation and whitespace remaining unchanged.\n",
    "\n",
    "Note: You can assume the plain text is all lowercase ASCII except for whitespace and punctuation."
   ]
  },
  {
   "cell_type": "code",
   "execution_count": 15,
   "id": "4e8e7e5e",
   "metadata": {},
   "outputs": [],
   "source": [
    "# caesar.py\n",
    "import string\n",
    "\n",
    "def caesar(plain_text, shift_num=1):\n",
    "    letters = string.ascii_lowercase\n",
    "    mask = letters[shift_num:] + letters[:shift_num]\n",
    "    trantab = str.maketrans(letters, mask)\n",
    "    return plain_text.translate(trantab)"
   ]
  },
  {
   "cell_type": "code",
   "execution_count": 16,
   "id": "ef5bd111",
   "metadata": {},
   "outputs": [
    {
     "data": {
      "text/plain": [
       "'abcdefghijklmnopqrstuvwxyz'"
      ]
     },
     "execution_count": 16,
     "metadata": {},
     "output_type": "execute_result"
    }
   ],
   "source": [
    "\n",
    "x = string.ascii_lowercase\n",
    "\n",
    "x"
   ]
  },
  {
   "cell_type": "code",
   "execution_count": 17,
   "id": "7f6c31d1",
   "metadata": {},
   "outputs": [
    {
     "data": {
      "text/plain": [
       "'d'"
      ]
     },
     "execution_count": 17,
     "metadata": {},
     "output_type": "execute_result"
    }
   ],
   "source": [
    "x[3]"
   ]
  },
  {
   "cell_type": "code",
   "execution_count": 18,
   "id": "d331c198",
   "metadata": {},
   "outputs": [
    {
     "data": {
      "text/plain": [
       "'abc'"
      ]
     },
     "execution_count": 18,
     "metadata": {},
     "output_type": "execute_result"
    }
   ],
   "source": [
    "x[:3]"
   ]
  },
  {
   "cell_type": "code",
   "execution_count": 19,
   "id": "cd5d3b1d",
   "metadata": {},
   "outputs": [
    {
     "data": {
      "text/plain": [
       "'defghijklmnopqrstuvwxyz'"
      ]
     },
     "execution_count": 19,
     "metadata": {},
     "output_type": "execute_result"
    }
   ],
   "source": [
    "x[3:]"
   ]
  },
  {
   "cell_type": "markdown",
   "id": "a7a58967",
   "metadata": {},
   "source": [
    "### Python Practice Problem 3: Caesar Cipher Redux\n",
    "\n",
    "For the third practice problem, you’ll solve the Caesar cipher again, but this time you’ll do it without using .translate().\n",
    "\n",
    "Problem Description\n",
    "The description of this problem is the same as the previous problem. Before you dive into the solution, you might be wondering why you’re repeating the same exercise, just without the help of .translate().\n",
    "\n",
    "That’s a great question. In normal life, when your goal is to get a working, maintainable program, rewriting parts of the standard library is a poor choice. The Python standard library is packed with working, well-tested, and fast solutions for problems large and small. Taking full advantage of it is a mark of a good programmer.\n",
    "\n",
    "That said, this is not a work project or a program you’re building to satisfy a need. This is a learning exercise, and it’s the type of question that might be asked during an interview. The goal for both is to see how you can solve the problem and what interesting design trade-offs you make while doing it.\n",
    "\n",
    "So, in the spirit of learning, let’s try to resolve the Caesar cipher without .translate().\n",
    "\n"
   ]
  },
  {
   "cell_type": "code",
   "execution_count": 1,
   "id": "96231021",
   "metadata": {},
   "outputs": [],
   "source": [
    "# caesar.py\n",
    "# solution 1\n",
    "import string\n",
    "\n",
    "def shift_n(letter, amount):\n",
    "    if letter not in string.ascii_lowercase:\n",
    "        return letter\n",
    "    new_letter = ord(letter) + amount\n",
    "    while new_letter > ord(\"z\"):\n",
    "        new_letter -= 26\n",
    "    while new_letter < ord(\"a\"):\n",
    "        new_letter += 26\n",
    "    return chr(new_letter)\n",
    "\n",
    "def caesar(message, amount):\n",
    "    enc_list = [shift_n(letter, amount) for letter in message]\n",
    "    return \"\".join(enc_list)"
   ]
  },
  {
   "cell_type": "code",
   "execution_count": 2,
   "id": "0353bda8",
   "metadata": {},
   "outputs": [],
   "source": [
    "# caesar.py\n",
    "# solution 2\n",
    "import string\n",
    "\n",
    "def shift_n(letter, table):\n",
    "    try:\n",
    "        index = string.ascii_lowercase.index(letter)\n",
    "        return table[index]\n",
    "    except ValueError:\n",
    "        return letter\n",
    "\n",
    "def caesar(message, amount):\n",
    "    amount = amount % 26\n",
    "    table = string.ascii_lowercase[amount:] + string.ascii_lowercase[:amount]\n",
    "    enc_list = [shift_n(letter, table) for letter in message]\n",
    "    return \"\".join(enc_list)"
   ]
  },
  {
   "cell_type": "code",
   "execution_count": null,
   "id": "1b01709f",
   "metadata": {},
   "outputs": [],
   "source": []
  }
 ],
 "metadata": {
  "kernelspec": {
   "display_name": "Python 3",
   "language": "python",
   "name": "python3"
  },
  "language_info": {
   "codemirror_mode": {
    "name": "ipython",
    "version": 3
   },
   "file_extension": ".py",
   "mimetype": "text/x-python",
   "name": "python",
   "nbconvert_exporter": "python",
   "pygments_lexer": "ipython3",
   "version": "3.8.8"
  }
 },
 "nbformat": 4,
 "nbformat_minor": 5
}
